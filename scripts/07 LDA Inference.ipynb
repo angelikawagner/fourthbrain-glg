{
 "cells": [
  {
   "cell_type": "code",
   "execution_count": 1,
   "metadata": {},
   "outputs": [],
   "source": [
    "from pathlib import Path\n",
    "from gensim import corpora\n",
    "from gensim.models import LdaModel"
   ]
  },
  {
   "cell_type": "code",
   "execution_count": 2,
   "metadata": {},
   "outputs": [],
   "source": [
    "DATASET = \"sample50k_topic4\"\n",
    "MODEL_NAME = \"lda_20i5p12t\"\n",
    "DICTIONARY_PATH = Path(\"../results/dictionary\")\n",
    "MODEL_PATH = Path(\"../results/models\")/DATASET"
   ]
  },
  {
   "cell_type": "code",
   "execution_count": 3,
   "metadata": {},
   "outputs": [],
   "source": [
    "# load saved dictionary and corpus\n",
    "dictionary = corpora.Dictionary.load(f\"{DICTIONARY_PATH/DATASET}\")\n",
    "\n",
    "# temp_file = datapath()\n",
    "lda = LdaModel.load(f\"{MODEL_PATH}/{MODEL_NAME}.model\")"
   ]
  },
  {
   "cell_type": "code",
   "execution_count": 6,
   "metadata": {},
   "outputs": [
    {
     "data": {
      "text/plain": [
       "[(0, 0.020839192),\n",
       " (1, 0.02083931),\n",
       " (2, 0.020839855),\n",
       " (3, 0.020839436),\n",
       " (4, 0.020839192),\n",
       " (5, 0.020839283),\n",
       " (6, 0.020839296),\n",
       " (7, 0.58186686),\n",
       " (8, 0.020839537),\n",
       " (9, 0.020839192),\n",
       " (10, 0.20973966),\n",
       " (11, 0.020839192)]"
      ]
     },
     "execution_count": 6,
     "metadata": {},
     "output_type": "execute_result"
    }
   ],
   "source": [
    "unseen_doc = dictionary.doc2bow([\"medicine\", \"desease\", \"forest\", \"hospital\"])\n",
    "lda[unseen_doc]"
   ]
  },
  {
   "cell_type": "code",
   "execution_count": 18,
   "metadata": {},
   "outputs": [
    {
     "data": {
      "text/plain": [
       "[(9,\n",
       "  '0.011*\"like\" + 0.009*\"people\" + 0.009*\"tell\" + 0.008*\"year\" + 0.008*\"love\" + 0.008*\"know\" + 0.008*\"star\" + 0.007*\"time\" + 0.006*\"think\" + 0.006*\"come\"'),\n",
       " (4,\n",
       "  '0.012*\"mr\" + 0.011*\"state\" + 0.007*\"law\" + 0.007*\"vote\" + 0.007*\"party\" + 0.007*\"new\" + 0.006*\"year\" + 0.005*\"voter\" + 0.005*\"percent\" + 0.005*\"republican\"'),\n",
       " (6,\n",
       "  '0.014*\"play\" + 0.013*\"film\" + 0.010*\"movie\" + 0.007*\"theater\" + 0.006*\"game\" + 0.006*\"mr\" + 0.006*\"character\" + 0.005*\"star\" + 0.005*\"new\" + 0.005*\"year\"'),\n",
       " (5,\n",
       "  '0.014*\"people\" + 0.014*\"family\" + 0.009*\"love\" + 0.009*\"tell\" + 0.009*\"share\" + 0.009*\"day\" + 0.009*\"baby\" + 0.008*\"daughter\" + 0.008*\"child\" + 0.008*\"photo\"'),\n",
       " (11,\n",
       "  '0.015*\"like\" + 0.011*\"people\" + 0.010*\"think\" + 0.010*\"know\" + 0.010*\"time\" + 0.008*\"feel\" + 0.008*\"way\" + 0.007*\"work\" + 0.007*\"thing\" + 0.007*\"want\"'),\n",
       " (3,\n",
       "  '0.035*\"new\" + 0.027*\"city\" + 0.026*\"york\" + 0.012*\"pm\" + 0.011*\"street\" + 0.007*\"park\" + 0.006*\"day\" + 0.006*\"de\" + 0.006*\"year\" + 0.006*\"mr\"'),\n",
       " (0,\n",
       "  '0.030*\"trump\" + 0.019*\"president\" + 0.007*\"white\" + 0.006*\"political\" + 0.005*\"donald\" + 0.005*\"house\" + 0.005*\"mr\" + 0.005*\"american\" + 0.005*\"people\" + 0.005*\"clinton\"'),\n",
       " (2,\n",
       "  '0.063*\"mr\" + 0.036*\"ms\" + 0.019*\"school\" + 0.013*\"student\" + 0.012*\"new\" + 0.011*\"university\" + 0.010*\"york\" + 0.009*\"work\" + 0.008*\"father\" + 0.008*\"college\"'),\n",
       " (10,\n",
       "  '0.010*\"look\" + 0.010*\"wear\" + 0.009*\"like\" + 0.007*\"dog\" + 0.006*\"dress\" + 0.005*\"fashion\" + 0.005*\"new\" + 0.005*\"animal\" + 0.004*\"brand\" + 0.004*\"buy\"'),\n",
       " (7,\n",
       "  '0.013*\"health\" + 0.012*\"dr\" + 0.011*\"study\" + 0.009*\"people\" + 0.008*\"patient\" + 0.006*\"disease\" + 0.006*\"drug\" + 0.006*\"year\" + 0.006*\"cancer\" + 0.005*\"medical\"')]"
      ]
     },
     "execution_count": 18,
     "metadata": {},
     "output_type": "execute_result"
    }
   ],
   "source": [
    "# lda.show_topics(formatted=False)\n",
    "lda.show_topics()"
   ]
  },
  {
   "cell_type": "code",
   "execution_count": null,
   "metadata": {},
   "outputs": [],
   "source": []
  }
 ],
 "metadata": {
  "interpreter": {
   "hash": "feb9fbdaf8823060a978ec464cb9b002124d7b95a0c8d909409fa113c0eca975"
  },
  "kernelspec": {
   "display_name": "Python 3.8.13 ('fourthbrain-glg')",
   "language": "python",
   "name": "python3"
  },
  "language_info": {
   "codemirror_mode": {
    "name": "ipython",
    "version": 3
   },
   "file_extension": ".py",
   "mimetype": "text/x-python",
   "name": "python",
   "nbconvert_exporter": "python",
   "pygments_lexer": "ipython3",
   "version": "3.8.13"
  },
  "orig_nbformat": 4
 },
 "nbformat": 4,
 "nbformat_minor": 2
}
