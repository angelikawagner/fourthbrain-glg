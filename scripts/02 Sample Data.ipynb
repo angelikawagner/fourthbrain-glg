{
 "cells": [
  {
   "cell_type": "code",
   "execution_count": null,
   "metadata": {},
   "outputs": [],
   "source": [
    "from src.data_selection import sample_articles, sample_by_topic\n",
    "\n",
    "\n",
    "\n",
    "# sample_articles(\"10k_random\", n_samples=10000, nrows=50000)\n",
    "\n",
    "# sample_by_topic(\"sample50k_topic4\",\n",
    "#     [\"health\", \"technology\", \"politics\", \"entertain\"],\n",
    "#     n_samples=50000\n",
    "#     )"
   ]
  }
 ],
 "metadata": {
  "language_info": {
   "name": "python"
  },
  "orig_nbformat": 4
 },
 "nbformat": 4,
 "nbformat_minor": 2
}
