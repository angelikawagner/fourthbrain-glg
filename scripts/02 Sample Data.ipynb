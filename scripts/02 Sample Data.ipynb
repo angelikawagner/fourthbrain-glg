{
 "cells": [
  {
   "cell_type": "code",
   "execution_count": 5,
   "metadata": {},
   "outputs": [],
   "source": [
    "%load_ext autoreload\n",
    "%autoreload 2"
   ]
  },
  {
   "cell_type": "code",
   "execution_count": 14,
   "metadata": {},
   "outputs": [
    {
     "name": "stderr",
     "output_type": "stream",
     "text": [
      "c:\\users\\angel\\documents\\fourthbrain-glg\\src\\data_selection.py:108: DtypeWarning: Columns (1) have mixed types. Specify dtype option on import or set low_memory=False.\n",
      "  df = pd.read_csv(raw_path / \"all-the-news-2-1.csv\",\n"
     ]
    }
   ],
   "source": [
    "from src.data_selection import sample_articles, sample_by_topic\n",
    "\n",
    "\n",
    "\n",
    "# sample_articles(\"10k_random\", n_samples=10000, nrows=50000)\n",
    "\n",
    "# sample_by_topic(\"sample50k_topic4_v2\",\n",
    "#     [\"health\", \"technology\", \"politics\", \"entertain\"],\n",
    "#     n_samples=50000\n",
    "#     )\n",
    "\n",
    "sample_by_topic(\"sample50k_health_tech\",\n",
    "    [\"health\", \"technology\"],\n",
    "    n_samples=50000\n",
    "    )"
   ]
  },
  {
   "cell_type": "code",
   "execution_count": null,
   "metadata": {},
   "outputs": [],
   "source": []
  }
 ],
 "metadata": {
  "interpreter": {
   "hash": "feb9fbdaf8823060a978ec464cb9b002124d7b95a0c8d909409fa113c0eca975"
  },
  "kernelspec": {
   "display_name": "Python 3.8.13 ('fourthbrain-glg')",
   "language": "python",
   "name": "python3"
  },
  "language_info": {
   "codemirror_mode": {
    "name": "ipython",
    "version": 3
   },
   "file_extension": ".py",
   "mimetype": "text/x-python",
   "name": "python",
   "nbconvert_exporter": "python",
   "pygments_lexer": "ipython3",
   "version": "3.8.13"
  },
  "orig_nbformat": 4
 },
 "nbformat": 4,
 "nbformat_minor": 2
}
