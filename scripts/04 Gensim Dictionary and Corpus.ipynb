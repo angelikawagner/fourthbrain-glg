{
 "cells": [
  {
   "cell_type": "code",
   "execution_count": 1,
   "metadata": {},
   "outputs": [],
   "source": [
    "import json\n",
    "\n",
    "from pathlib import Path\n",
    "\n",
    "from smart_open import open\n",
    "from gensim import corpora\n",
    "from gensim.models import LdaModel\n",
    "from gensim.test.utils import datapath"
   ]
  },
  {
   "cell_type": "code",
   "execution_count": 2,
   "metadata": {},
   "outputs": [],
   "source": [
    "DATASET = \"sample50k_health_tech\"\n",
    "\n",
    "PROCESSED_PATH = Path(\"../data/data_processed\")\n",
    "DICTIONARY_PATH = Path(\"../results/dictionary\")\n",
    "CORPUS_PATH = Path(\"../results/corpus\")"
   ]
  },
  {
   "cell_type": "markdown",
   "metadata": {},
   "source": [
    "### Create Gensim Dictionary"
   ]
  },
  {
   "cell_type": "code",
   "execution_count": 3,
   "metadata": {},
   "outputs": [],
   "source": [
    "dictionary = corpora.Dictionary()\n",
    "\n",
    "for fn in list((PROCESSED_PATH/DATASET).iterdir()):\n",
    "    dictionary.add_documents(json.loads(line)[\"article\"] for line in open(fn))\n",
    "\n",
    "# remove words that appear only once\n",
    "once_ids = [tokenid for tokenid, docfreq in dictionary.dfs.items() if docfreq == 1]\n",
    "dictionary.filter_tokens(once_ids)  # remove words that appear only once\n",
    "dictionary.compactify()  # remove gaps in id sequence after words that were removed\n",
    "\n",
    "# save dictionary\n",
    "dictionary.save((DICTIONARY_PATH/DATASET).as_posix())"
   ]
  },
  {
   "cell_type": "markdown",
   "metadata": {},
   "source": [
    "### Vectorize corpus\n",
    "\n",
    "Streaming tokenized corpus."
   ]
  },
  {
   "cell_type": "code",
   "execution_count": 4,
   "metadata": {},
   "outputs": [],
   "source": [
    "class MyCorpus(object):\n",
    "    def __iter__(self):\n",
    "        for fn in list((PROCESSED_PATH/DATASET).iterdir()):\n",
    "            for line in open(fn):\n",
    "                yield dictionary.doc2bow(json.loads(line)[\"article\"])\n",
    "\n",
    "corpus_memory_friendly = MyCorpus()\n",
    "bow_corpus = [vector for vector in corpus_memory_friendly]\n",
    "\n",
    "corpora.MmCorpus.serialize(f'{(CORPUS_PATH/DATASET).as_posix()}.mm', bow_corpus)"
   ]
  },
  {
   "cell_type": "code",
   "execution_count": null,
   "metadata": {},
   "outputs": [],
   "source": []
  }
 ],
 "metadata": {
  "interpreter": {
   "hash": "feb9fbdaf8823060a978ec464cb9b002124d7b95a0c8d909409fa113c0eca975"
  },
  "kernelspec": {
   "display_name": "Python 3.8.13 ('fourthbrain-glg')",
   "language": "python",
   "name": "python3"
  },
  "language_info": {
   "codemirror_mode": {
    "name": "ipython",
    "version": 3
   },
   "file_extension": ".py",
   "mimetype": "text/x-python",
   "name": "python",
   "nbconvert_exporter": "python",
   "pygments_lexer": "ipython3",
   "version": "3.8.13"
  },
  "orig_nbformat": 4
 },
 "nbformat": 4,
 "nbformat_minor": 2
}
