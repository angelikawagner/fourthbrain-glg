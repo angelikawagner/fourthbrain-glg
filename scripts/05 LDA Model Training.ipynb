{
 "cells": [
  {
   "cell_type": "code",
   "execution_count": 18,
   "metadata": {},
   "outputs": [],
   "source": [
    "from datetime import datetime\n",
    "from pathlib import Path\n",
    "from gensim import corpora\n",
    "from gensim.models import LdaModel, ldamulticore\n",
    "from gensim.models.callbacks import PerplexityMetric, ConvergenceMetric, CoherenceMetric\n",
    "from itertools import product\n",
    "\n",
    "import wandb"
   ]
  },
  {
   "cell_type": "code",
   "execution_count": 2,
   "metadata": {},
   "outputs": [],
   "source": [
    "DATASET = \"sample50k_topic4\"\n",
    "\n",
    "DICTIONARY_PATH = Path(\"../results/dictionary\")\n",
    "CORPUS_PATH = Path(\"../results/corpus\")\n",
    "MODEL_PATH = Path(\"../results/models\")/DATASET\n",
    "\n",
    "MODEL_PATH.mkdir(exist_ok=True)"
   ]
  },
  {
   "cell_type": "code",
   "execution_count": 4,
   "metadata": {},
   "outputs": [
    {
     "data": {
      "text/plain": [
       "True"
      ]
     },
     "execution_count": 4,
     "metadata": {},
     "output_type": "execute_result"
    }
   ],
   "source": [
    "# Log in to W&B account\n",
    "wandb.login()"
   ]
  },
  {
   "cell_type": "code",
   "execution_count": 11,
   "metadata": {},
   "outputs": [],
   "source": [
    "# load saved dictionary and corpus\n",
    "dictionary = corpora.Dictionary.load(f\"{DICTIONARY_PATH/DATASET}\")\n",
    "corpus = corpora.MmCorpus(f\"{CORPUS_PATH/DATASET}.mm\")"
   ]
  },
  {
   "cell_type": "code",
   "execution_count": 12,
   "metadata": {},
   "outputs": [
    {
     "name": "stdout",
     "output_type": "stream",
     "text": [
      "Number of unique tokens: 105408\n",
      "Number of documents: 50000\n"
     ]
    }
   ],
   "source": [
    "print('Number of unique tokens: %d' % len(dictionary))\n",
    "print('Number of documents: %d' % len(corpus))"
   ]
  },
  {
   "cell_type": "markdown",
   "metadata": {},
   "source": [
    "### Train and save experiments to Weighths & Biases"
   ]
  },
  {
   "cell_type": "markdown",
   "metadata": {},
   "source": [
    "Single core version."
   ]
  },
  {
   "cell_type": "code",
   "execution_count": 13,
   "metadata": {},
   "outputs": [],
   "source": [
    "# Set up the callbacks loggers\n",
    "perplexity_logger = PerplexityMetric(corpus=corpus, logger='shell')\n",
    "convergence_logger = ConvergenceMetric(logger='shell', normed=True)\n",
    "coherence_umass_logger = CoherenceMetric(corpus=corpus, logger='shell', coherence = 'u_mass')"
   ]
  },
  {
   "cell_type": "code",
   "execution_count": 20,
   "metadata": {},
   "outputs": [
    {
     "data": {
      "text/html": [
       "wandb version 0.12.16 is available!  To upgrade, please run:\n",
       " $ pip install wandb --upgrade"
      ],
      "text/plain": [
       "<IPython.core.display.HTML object>"
      ]
     },
     "metadata": {},
     "output_type": "display_data"
    },
    {
     "data": {
      "text/html": [
       "Tracking run with wandb version 0.12.15"
      ],
      "text/plain": [
       "<IPython.core.display.HTML object>"
      ]
     },
     "metadata": {},
     "output_type": "display_data"
    },
    {
     "data": {
      "text/html": [
       "Run data is saved locally in <code>c:\\Users\\angel\\Documents\\fourthbrain-glg\\scripts\\wandb\\run-20220509_145529-xvgzu4it</code>"
      ],
      "text/plain": [
       "<IPython.core.display.HTML object>"
      ]
     },
     "metadata": {},
     "output_type": "display_data"
    },
    {
     "data": {
      "text/html": [
       "Syncing run <strong><a href=\"https://wandb.ai/angelika/lda-labelled-subset/runs/xvgzu4it\" target=\"_blank\">i10p5t4</a></strong> to <a href=\"https://wandb.ai/angelika/lda-labelled-subset\" target=\"_blank\">Weights & Biases</a> (<a href=\"https://wandb.me/run\" target=\"_blank\">docs</a>)<br/>"
      ],
      "text/plain": [
       "<IPython.core.display.HTML object>"
      ]
     },
     "metadata": {},
     "output_type": "display_data"
    },
    {
     "data": {
      "text/html": [
       "Waiting for W&B process to finish... <strong style=\"color:green\">(success).</strong>"
      ],
      "text/plain": [
       "<IPython.core.display.HTML object>"
      ]
     },
     "metadata": {},
     "output_type": "display_data"
    },
    {
     "data": {
      "text/html": [
       "<style>\n",
       "    table.wandb td:nth-child(1) { padding: 0 10px; text-align: right }\n",
       "    .wandb-row { display: flex; flex-direction: row; flex-wrap: wrap; width: 100% }\n",
       "    .wandb-col { display: flex; flex-direction: column; flex-basis: 100%; flex: 1; padding: 10px; }\n",
       "    </style>\n",
       "<div class=\"wandb-row\"><div class=\"wandb-col\"><h3>Run history:</h3><br/><table class=\"wandb\"><tr><td>Coherence</td><td>█▁▇▆▆</td></tr><tr><td>Convergence</td><td>█▁▆▂▄</td></tr><tr><td>Perplexity</td><td>█▃▂▁▁</td></tr></table><br/></div><div class=\"wandb-col\"><h3>Run summary:</h3><br/><table class=\"wandb\"><tr><td>Coherence</td><td>-0.94492</td></tr><tr><td>Convergence</td><td>3.0</td></tr><tr><td>Perplexity</td><td>369.19189</td></tr><tr><td>time_elapsed</td><td>0:12:30.407404</td></tr></table><br/></div></div>"
      ],
      "text/plain": [
       "<IPython.core.display.HTML object>"
      ]
     },
     "metadata": {},
     "output_type": "display_data"
    },
    {
     "data": {
      "text/html": [
       "Synced <strong style=\"color:#cdcd00\">i10p5t4</strong>: <a href=\"https://wandb.ai/angelika/lda-labelled-subset/runs/xvgzu4it\" target=\"_blank\">https://wandb.ai/angelika/lda-labelled-subset/runs/xvgzu4it</a><br/>Synced 4 W&B file(s), 0 media file(s), 0 artifact file(s) and 0 other file(s)"
      ],
      "text/plain": [
       "<IPython.core.display.HTML object>"
      ]
     },
     "metadata": {},
     "output_type": "display_data"
    },
    {
     "data": {
      "text/html": [
       "Find logs at: <code>.\\wandb\\run-20220509_145529-xvgzu4it\\logs</code>"
      ],
      "text/plain": [
       "<IPython.core.display.HTML object>"
      ]
     },
     "metadata": {},
     "output_type": "display_data"
    },
    {
     "data": {
      "text/html": [
       "wandb version 0.12.16 is available!  To upgrade, please run:\n",
       " $ pip install wandb --upgrade"
      ],
      "text/plain": [
       "<IPython.core.display.HTML object>"
      ]
     },
     "metadata": {},
     "output_type": "display_data"
    },
    {
     "data": {
      "text/html": [
       "Tracking run with wandb version 0.12.15"
      ],
      "text/plain": [
       "<IPython.core.display.HTML object>"
      ]
     },
     "metadata": {},
     "output_type": "display_data"
    },
    {
     "data": {
      "text/html": [
       "Run data is saved locally in <code>c:\\Users\\angel\\Documents\\fourthbrain-glg\\scripts\\wandb\\run-20220509_150807-3e5wqufe</code>"
      ],
      "text/plain": [
       "<IPython.core.display.HTML object>"
      ]
     },
     "metadata": {},
     "output_type": "display_data"
    },
    {
     "data": {
      "text/html": [
       "Syncing run <strong><a href=\"https://wandb.ai/angelika/lda-labelled-subset/runs/3e5wqufe\" target=\"_blank\">i10p5t8</a></strong> to <a href=\"https://wandb.ai/angelika/lda-labelled-subset\" target=\"_blank\">Weights & Biases</a> (<a href=\"https://wandb.me/run\" target=\"_blank\">docs</a>)<br/>"
      ],
      "text/plain": [
       "<IPython.core.display.HTML object>"
      ]
     },
     "metadata": {},
     "output_type": "display_data"
    },
    {
     "data": {
      "text/html": [
       "Waiting for W&B process to finish... <strong style=\"color:green\">(success).</strong>"
      ],
      "text/plain": [
       "<IPython.core.display.HTML object>"
      ]
     },
     "metadata": {},
     "output_type": "display_data"
    },
    {
     "data": {
      "text/html": [
       "<style>\n",
       "    table.wandb td:nth-child(1) { padding: 0 10px; text-align: right }\n",
       "    .wandb-row { display: flex; flex-direction: row; flex-wrap: wrap; width: 100% }\n",
       "    .wandb-col { display: flex; flex-direction: column; flex-basis: 100%; flex: 1; padding: 10px; }\n",
       "    </style>\n",
       "<div class=\"wandb-row\"><div class=\"wandb-col\"><h3>Run history:</h3><br/><table class=\"wandb\"><tr><td>Coherence</td><td>█▁▁▂▂</td></tr><tr><td>Convergence</td><td>█▃▁▂▂</td></tr><tr><td>Perplexity</td><td>█▄▂▁▁</td></tr></table><br/></div><div class=\"wandb-col\"><h3>Run summary:</h3><br/><table class=\"wandb\"><tr><td>Coherence</td><td>-1.25565</td></tr><tr><td>Convergence</td><td>3.7188</td></tr><tr><td>Perplexity</td><td>390.64424</td></tr><tr><td>time_elapsed</td><td>0:14:38.359323</td></tr></table><br/></div></div>"
      ],
      "text/plain": [
       "<IPython.core.display.HTML object>"
      ]
     },
     "metadata": {},
     "output_type": "display_data"
    },
    {
     "data": {
      "text/html": [
       "Synced <strong style=\"color:#cdcd00\">i10p5t8</strong>: <a href=\"https://wandb.ai/angelika/lda-labelled-subset/runs/3e5wqufe\" target=\"_blank\">https://wandb.ai/angelika/lda-labelled-subset/runs/3e5wqufe</a><br/>Synced 4 W&B file(s), 0 media file(s), 0 artifact file(s) and 0 other file(s)"
      ],
      "text/plain": [
       "<IPython.core.display.HTML object>"
      ]
     },
     "metadata": {},
     "output_type": "display_data"
    },
    {
     "data": {
      "text/html": [
       "Find logs at: <code>.\\wandb\\run-20220509_150807-3e5wqufe\\logs</code>"
      ],
      "text/plain": [
       "<IPython.core.display.HTML object>"
      ]
     },
     "metadata": {},
     "output_type": "display_data"
    },
    {
     "data": {
      "text/html": [
       "wandb version 0.12.16 is available!  To upgrade, please run:\n",
       " $ pip install wandb --upgrade"
      ],
      "text/plain": [
       "<IPython.core.display.HTML object>"
      ]
     },
     "metadata": {},
     "output_type": "display_data"
    },
    {
     "data": {
      "text/html": [
       "Tracking run with wandb version 0.12.15"
      ],
      "text/plain": [
       "<IPython.core.display.HTML object>"
      ]
     },
     "metadata": {},
     "output_type": "display_data"
    },
    {
     "data": {
      "text/html": [
       "Run data is saved locally in <code>c:\\Users\\angel\\Documents\\fourthbrain-glg\\scripts\\wandb\\run-20220509_152250-umxsutpn</code>"
      ],
      "text/plain": [
       "<IPython.core.display.HTML object>"
      ]
     },
     "metadata": {},
     "output_type": "display_data"
    },
    {
     "data": {
      "text/html": [
       "Syncing run <strong><a href=\"https://wandb.ai/angelika/lda-labelled-subset/runs/umxsutpn\" target=\"_blank\">i10p5t12</a></strong> to <a href=\"https://wandb.ai/angelika/lda-labelled-subset\" target=\"_blank\">Weights & Biases</a> (<a href=\"https://wandb.me/run\" target=\"_blank\">docs</a>)<br/>"
      ],
      "text/plain": [
       "<IPython.core.display.HTML object>"
      ]
     },
     "metadata": {},
     "output_type": "display_data"
    },
    {
     "data": {
      "text/html": [
       "Waiting for W&B process to finish... <strong style=\"color:green\">(success).</strong>"
      ],
      "text/plain": [
       "<IPython.core.display.HTML object>"
      ]
     },
     "metadata": {},
     "output_type": "display_data"
    },
    {
     "data": {
      "text/html": [
       "<style>\n",
       "    table.wandb td:nth-child(1) { padding: 0 10px; text-align: right }\n",
       "    .wandb-row { display: flex; flex-direction: row; flex-wrap: wrap; width: 100% }\n",
       "    .wandb-col { display: flex; flex-direction: column; flex-basis: 100%; flex: 1; padding: 10px; }\n",
       "    </style>\n",
       "<div class=\"wandb-row\"><div class=\"wandb-col\"><h3>Run history:</h3><br/><table class=\"wandb\"><tr><td>Coherence</td><td>█▇▄▁▆</td></tr><tr><td>Convergence</td><td>█▂▁▂▂</td></tr><tr><td>Perplexity</td><td>█▄▂▁▁</td></tr></table><br/></div><div class=\"wandb-col\"><h3>Run summary:</h3><br/><table class=\"wandb\"><tr><td>Coherence</td><td>-1.15181</td></tr><tr><td>Convergence</td><td>4.79762</td></tr><tr><td>Perplexity</td><td>472.92609</td></tr><tr><td>time_elapsed</td><td>0:14:04.721287</td></tr></table><br/></div></div>"
      ],
      "text/plain": [
       "<IPython.core.display.HTML object>"
      ]
     },
     "metadata": {},
     "output_type": "display_data"
    },
    {
     "data": {
      "text/html": [
       "Synced <strong style=\"color:#cdcd00\">i10p5t12</strong>: <a href=\"https://wandb.ai/angelika/lda-labelled-subset/runs/umxsutpn\" target=\"_blank\">https://wandb.ai/angelika/lda-labelled-subset/runs/umxsutpn</a><br/>Synced 4 W&B file(s), 0 media file(s), 0 artifact file(s) and 0 other file(s)"
      ],
      "text/plain": [
       "<IPython.core.display.HTML object>"
      ]
     },
     "metadata": {},
     "output_type": "display_data"
    },
    {
     "data": {
      "text/html": [
       "Find logs at: <code>.\\wandb\\run-20220509_152250-umxsutpn\\logs</code>"
      ],
      "text/plain": [
       "<IPython.core.display.HTML object>"
      ]
     },
     "metadata": {},
     "output_type": "display_data"
    },
    {
     "data": {
      "text/html": [
       "wandb version 0.12.16 is available!  To upgrade, please run:\n",
       " $ pip install wandb --upgrade"
      ],
      "text/plain": [
       "<IPython.core.display.HTML object>"
      ]
     },
     "metadata": {},
     "output_type": "display_data"
    },
    {
     "data": {
      "text/html": [
       "Tracking run with wandb version 0.12.15"
      ],
      "text/plain": [
       "<IPython.core.display.HTML object>"
      ]
     },
     "metadata": {},
     "output_type": "display_data"
    },
    {
     "data": {
      "text/html": [
       "Run data is saved locally in <code>c:\\Users\\angel\\Documents\\fourthbrain-glg\\scripts\\wandb\\run-20220509_153659-nyxxrlbc</code>"
      ],
      "text/plain": [
       "<IPython.core.display.HTML object>"
      ]
     },
     "metadata": {},
     "output_type": "display_data"
    },
    {
     "data": {
      "text/html": [
       "Syncing run <strong><a href=\"https://wandb.ai/angelika/lda-labelled-subset/runs/nyxxrlbc\" target=\"_blank\">i10p5t24</a></strong> to <a href=\"https://wandb.ai/angelika/lda-labelled-subset\" target=\"_blank\">Weights & Biases</a> (<a href=\"https://wandb.me/run\" target=\"_blank\">docs</a>)<br/>"
      ],
      "text/plain": [
       "<IPython.core.display.HTML object>"
      ]
     },
     "metadata": {},
     "output_type": "display_data"
    },
    {
     "data": {
      "text/html": [
       "Waiting for W&B process to finish... <strong style=\"color:green\">(success).</strong>"
      ],
      "text/plain": [
       "<IPython.core.display.HTML object>"
      ]
     },
     "metadata": {},
     "output_type": "display_data"
    },
    {
     "data": {
      "text/html": [
       "<style>\n",
       "    table.wandb td:nth-child(1) { padding: 0 10px; text-align: right }\n",
       "    .wandb-row { display: flex; flex-direction: row; flex-wrap: wrap; width: 100% }\n",
       "    .wandb-col { display: flex; flex-direction: column; flex-basis: 100%; flex: 1; padding: 10px; }\n",
       "    </style>\n",
       "<div class=\"wandb-row\"><div class=\"wandb-col\"><h3>Run history:</h3><br/><table class=\"wandb\"><tr><td>Coherence</td><td>█▄▃▂▁</td></tr><tr><td>Convergence</td><td>█▄▃▂▁</td></tr><tr><td>Perplexity</td><td>█▃▂▁▁</td></tr></table><br/></div><div class=\"wandb-col\"><h3>Run summary:</h3><br/><table class=\"wandb\"><tr><td>Coherence</td><td>-1.31416</td></tr><tr><td>Convergence</td><td>8.02264</td></tr><tr><td>Perplexity</td><td>658.14204</td></tr><tr><td>time_elapsed</td><td>0:11:50.470730</td></tr></table><br/></div></div>"
      ],
      "text/plain": [
       "<IPython.core.display.HTML object>"
      ]
     },
     "metadata": {},
     "output_type": "display_data"
    },
    {
     "data": {
      "text/html": [
       "Synced <strong style=\"color:#cdcd00\">i10p5t24</strong>: <a href=\"https://wandb.ai/angelika/lda-labelled-subset/runs/nyxxrlbc\" target=\"_blank\">https://wandb.ai/angelika/lda-labelled-subset/runs/nyxxrlbc</a><br/>Synced 4 W&B file(s), 0 media file(s), 0 artifact file(s) and 0 other file(s)"
      ],
      "text/plain": [
       "<IPython.core.display.HTML object>"
      ]
     },
     "metadata": {},
     "output_type": "display_data"
    },
    {
     "data": {
      "text/html": [
       "Find logs at: <code>.\\wandb\\run-20220509_153659-nyxxrlbc\\logs</code>"
      ],
      "text/plain": [
       "<IPython.core.display.HTML object>"
      ]
     },
     "metadata": {},
     "output_type": "display_data"
    },
    {
     "data": {
      "text/html": [
       "wandb version 0.12.16 is available!  To upgrade, please run:\n",
       " $ pip install wandb --upgrade"
      ],
      "text/plain": [
       "<IPython.core.display.HTML object>"
      ]
     },
     "metadata": {},
     "output_type": "display_data"
    },
    {
     "data": {
      "text/html": [
       "Tracking run with wandb version 0.12.15"
      ],
      "text/plain": [
       "<IPython.core.display.HTML object>"
      ]
     },
     "metadata": {},
     "output_type": "display_data"
    },
    {
     "data": {
      "text/html": [
       "Run data is saved locally in <code>c:\\Users\\angel\\Documents\\fourthbrain-glg\\scripts\\wandb\\run-20220509_154856-1d5wgv1v</code>"
      ],
      "text/plain": [
       "<IPython.core.display.HTML object>"
      ]
     },
     "metadata": {},
     "output_type": "display_data"
    },
    {
     "data": {
      "text/html": [
       "Syncing run <strong><a href=\"https://wandb.ai/angelika/lda-labelled-subset/runs/1d5wgv1v\" target=\"_blank\">i10p5t48</a></strong> to <a href=\"https://wandb.ai/angelika/lda-labelled-subset\" target=\"_blank\">Weights & Biases</a> (<a href=\"https://wandb.me/run\" target=\"_blank\">docs</a>)<br/>"
      ],
      "text/plain": [
       "<IPython.core.display.HTML object>"
      ]
     },
     "metadata": {},
     "output_type": "display_data"
    },
    {
     "data": {
      "text/html": [
       "Waiting for W&B process to finish... <strong style=\"color:green\">(success).</strong>"
      ],
      "text/plain": [
       "<IPython.core.display.HTML object>"
      ]
     },
     "metadata": {},
     "output_type": "display_data"
    },
    {
     "data": {
      "text/html": [
       "<style>\n",
       "    table.wandb td:nth-child(1) { padding: 0 10px; text-align: right }\n",
       "    .wandb-row { display: flex; flex-direction: row; flex-wrap: wrap; width: 100% }\n",
       "    .wandb-col { display: flex; flex-direction: column; flex-basis: 100%; flex: 1; padding: 10px; }\n",
       "    </style>\n",
       "<div class=\"wandb-row\"><div class=\"wandb-col\"><h3>Run history:</h3><br/><table class=\"wandb\"><tr><td>Coherence</td><td>▁▂█▆▇</td></tr><tr><td>Convergence</td><td>█▃▃▂▁</td></tr><tr><td>Perplexity</td><td>█▄▂▁▁</td></tr></table><br/></div><div class=\"wandb-col\"><h3>Run summary:</h3><br/><table class=\"wandb\"><tr><td>Coherence</td><td>-1.59232</td></tr><tr><td>Convergence</td><td>16.38891</td></tr><tr><td>Perplexity</td><td>1427.47403</td></tr><tr><td>time_elapsed</td><td>0:12:21.906589</td></tr></table><br/></div></div>"
      ],
      "text/plain": [
       "<IPython.core.display.HTML object>"
      ]
     },
     "metadata": {},
     "output_type": "display_data"
    },
    {
     "data": {
      "text/html": [
       "Synced <strong style=\"color:#cdcd00\">i10p5t48</strong>: <a href=\"https://wandb.ai/angelika/lda-labelled-subset/runs/1d5wgv1v\" target=\"_blank\">https://wandb.ai/angelika/lda-labelled-subset/runs/1d5wgv1v</a><br/>Synced 4 W&B file(s), 0 media file(s), 0 artifact file(s) and 0 other file(s)"
      ],
      "text/plain": [
       "<IPython.core.display.HTML object>"
      ]
     },
     "metadata": {},
     "output_type": "display_data"
    },
    {
     "data": {
      "text/html": [
       "Find logs at: <code>.\\wandb\\run-20220509_154856-1d5wgv1v\\logs</code>"
      ],
      "text/plain": [
       "<IPython.core.display.HTML object>"
      ]
     },
     "metadata": {},
     "output_type": "display_data"
    },
    {
     "data": {
      "text/html": [
       "wandb version 0.12.16 is available!  To upgrade, please run:\n",
       " $ pip install wandb --upgrade"
      ],
      "text/plain": [
       "<IPython.core.display.HTML object>"
      ]
     },
     "metadata": {},
     "output_type": "display_data"
    },
    {
     "data": {
      "text/html": [
       "Tracking run with wandb version 0.12.15"
      ],
      "text/plain": [
       "<IPython.core.display.HTML object>"
      ]
     },
     "metadata": {},
     "output_type": "display_data"
    },
    {
     "data": {
      "text/html": [
       "Run data is saved locally in <code>c:\\Users\\angel\\Documents\\fourthbrain-glg\\scripts\\wandb\\run-20220509_160124-12baobj4</code>"
      ],
      "text/plain": [
       "<IPython.core.display.HTML object>"
      ]
     },
     "metadata": {},
     "output_type": "display_data"
    },
    {
     "data": {
      "text/html": [
       "Syncing run <strong><a href=\"https://wandb.ai/angelika/lda-labelled-subset/runs/12baobj4\" target=\"_blank\">i20p5t4</a></strong> to <a href=\"https://wandb.ai/angelika/lda-labelled-subset\" target=\"_blank\">Weights & Biases</a> (<a href=\"https://wandb.me/run\" target=\"_blank\">docs</a>)<br/>"
      ],
      "text/plain": [
       "<IPython.core.display.HTML object>"
      ]
     },
     "metadata": {},
     "output_type": "display_data"
    },
    {
     "data": {
      "text/html": [
       "Waiting for W&B process to finish... <strong style=\"color:green\">(success).</strong>"
      ],
      "text/plain": [
       "<IPython.core.display.HTML object>"
      ]
     },
     "metadata": {},
     "output_type": "display_data"
    },
    {
     "data": {
      "text/html": [
       "<style>\n",
       "    table.wandb td:nth-child(1) { padding: 0 10px; text-align: right }\n",
       "    .wandb-row { display: flex; flex-direction: row; flex-wrap: wrap; width: 100% }\n",
       "    .wandb-col { display: flex; flex-direction: column; flex-basis: 100%; flex: 1; padding: 10px; }\n",
       "    </style>\n",
       "<div class=\"wandb-row\"><div class=\"wandb-col\"><h3>Run history:</h3><br/><table class=\"wandb\"><tr><td>Coherence</td><td>█▁▃▄▄</td></tr><tr><td>Convergence</td><td>█▅▃▅▁</td></tr><tr><td>Perplexity</td><td>█▃▂▁▁</td></tr></table><br/></div><div class=\"wandb-col\"><h3>Run summary:</h3><br/><table class=\"wandb\"><tr><td>Coherence</td><td>-0.94974</td></tr><tr><td>Convergence</td><td>1.50495</td></tr><tr><td>Perplexity</td><td>368.72348</td></tr><tr><td>time_elapsed</td><td>0:09:33.121717</td></tr></table><br/></div></div>"
      ],
      "text/plain": [
       "<IPython.core.display.HTML object>"
      ]
     },
     "metadata": {},
     "output_type": "display_data"
    },
    {
     "data": {
      "text/html": [
       "Synced <strong style=\"color:#cdcd00\">i20p5t4</strong>: <a href=\"https://wandb.ai/angelika/lda-labelled-subset/runs/12baobj4\" target=\"_blank\">https://wandb.ai/angelika/lda-labelled-subset/runs/12baobj4</a><br/>Synced 4 W&B file(s), 0 media file(s), 0 artifact file(s) and 0 other file(s)"
      ],
      "text/plain": [
       "<IPython.core.display.HTML object>"
      ]
     },
     "metadata": {},
     "output_type": "display_data"
    },
    {
     "data": {
      "text/html": [
       "Find logs at: <code>.\\wandb\\run-20220509_160124-12baobj4\\logs</code>"
      ],
      "text/plain": [
       "<IPython.core.display.HTML object>"
      ]
     },
     "metadata": {},
     "output_type": "display_data"
    },
    {
     "data": {
      "text/html": [
       "wandb version 0.12.16 is available!  To upgrade, please run:\n",
       " $ pip install wandb --upgrade"
      ],
      "text/plain": [
       "<IPython.core.display.HTML object>"
      ]
     },
     "metadata": {},
     "output_type": "display_data"
    },
    {
     "data": {
      "text/html": [
       "Tracking run with wandb version 0.12.15"
      ],
      "text/plain": [
       "<IPython.core.display.HTML object>"
      ]
     },
     "metadata": {},
     "output_type": "display_data"
    },
    {
     "data": {
      "text/html": [
       "Run data is saved locally in <code>c:\\Users\\angel\\Documents\\fourthbrain-glg\\scripts\\wandb\\run-20220509_161103-3v7rq9tg</code>"
      ],
      "text/plain": [
       "<IPython.core.display.HTML object>"
      ]
     },
     "metadata": {},
     "output_type": "display_data"
    },
    {
     "data": {
      "text/html": [
       "Syncing run <strong><a href=\"https://wandb.ai/angelika/lda-labelled-subset/runs/3v7rq9tg\" target=\"_blank\">i20p5t8</a></strong> to <a href=\"https://wandb.ai/angelika/lda-labelled-subset\" target=\"_blank\">Weights & Biases</a> (<a href=\"https://wandb.me/run\" target=\"_blank\">docs</a>)<br/>"
      ],
      "text/plain": [
       "<IPython.core.display.HTML object>"
      ]
     },
     "metadata": {},
     "output_type": "display_data"
    },
    {
     "data": {
      "text/html": [
       "Waiting for W&B process to finish... <strong style=\"color:green\">(success).</strong>"
      ],
      "text/plain": [
       "<IPython.core.display.HTML object>"
      ]
     },
     "metadata": {},
     "output_type": "display_data"
    },
    {
     "data": {
      "text/html": [
       "<style>\n",
       "    table.wandb td:nth-child(1) { padding: 0 10px; text-align: right }\n",
       "    .wandb-row { display: flex; flex-direction: row; flex-wrap: wrap; width: 100% }\n",
       "    .wandb-col { display: flex; flex-direction: column; flex-basis: 100%; flex: 1; padding: 10px; }\n",
       "    </style>\n",
       "<div class=\"wandb-row\"><div class=\"wandb-col\"><h3>Run history:</h3><br/><table class=\"wandb\"><tr><td>Coherence</td><td>█▆▇▂▁</td></tr><tr><td>Convergence</td><td>█▃▂▁▁</td></tr><tr><td>Perplexity</td><td>█▄▂▁▁</td></tr></table><br/></div><div class=\"wandb-col\"><h3>Run summary:</h3><br/><table class=\"wandb\"><tr><td>Coherence</td><td>-1.27791</td></tr><tr><td>Convergence</td><td>2.73556</td></tr><tr><td>Perplexity</td><td>389.83745</td></tr><tr><td>time_elapsed</td><td>0:10:56.137461</td></tr></table><br/></div></div>"
      ],
      "text/plain": [
       "<IPython.core.display.HTML object>"
      ]
     },
     "metadata": {},
     "output_type": "display_data"
    },
    {
     "data": {
      "text/html": [
       "Synced <strong style=\"color:#cdcd00\">i20p5t8</strong>: <a href=\"https://wandb.ai/angelika/lda-labelled-subset/runs/3v7rq9tg\" target=\"_blank\">https://wandb.ai/angelika/lda-labelled-subset/runs/3v7rq9tg</a><br/>Synced 4 W&B file(s), 0 media file(s), 0 artifact file(s) and 0 other file(s)"
      ],
      "text/plain": [
       "<IPython.core.display.HTML object>"
      ]
     },
     "metadata": {},
     "output_type": "display_data"
    },
    {
     "data": {
      "text/html": [
       "Find logs at: <code>.\\wandb\\run-20220509_161103-3v7rq9tg\\logs</code>"
      ],
      "text/plain": [
       "<IPython.core.display.HTML object>"
      ]
     },
     "metadata": {},
     "output_type": "display_data"
    },
    {
     "data": {
      "text/html": [
       "wandb version 0.12.16 is available!  To upgrade, please run:\n",
       " $ pip install wandb --upgrade"
      ],
      "text/plain": [
       "<IPython.core.display.HTML object>"
      ]
     },
     "metadata": {},
     "output_type": "display_data"
    },
    {
     "data": {
      "text/html": [
       "Tracking run with wandb version 0.12.15"
      ],
      "text/plain": [
       "<IPython.core.display.HTML object>"
      ]
     },
     "metadata": {},
     "output_type": "display_data"
    },
    {
     "data": {
      "text/html": [
       "Run data is saved locally in <code>c:\\Users\\angel\\Documents\\fourthbrain-glg\\scripts\\wandb\\run-20220509_162204-pwlfc5c2</code>"
      ],
      "text/plain": [
       "<IPython.core.display.HTML object>"
      ]
     },
     "metadata": {},
     "output_type": "display_data"
    },
    {
     "data": {
      "text/html": [
       "Syncing run <strong><a href=\"https://wandb.ai/angelika/lda-labelled-subset/runs/pwlfc5c2\" target=\"_blank\">i20p5t12</a></strong> to <a href=\"https://wandb.ai/angelika/lda-labelled-subset\" target=\"_blank\">Weights & Biases</a> (<a href=\"https://wandb.me/run\" target=\"_blank\">docs</a>)<br/>"
      ],
      "text/plain": [
       "<IPython.core.display.HTML object>"
      ]
     },
     "metadata": {},
     "output_type": "display_data"
    },
    {
     "data": {
      "text/html": [
       "Waiting for W&B process to finish... <strong style=\"color:green\">(success).</strong>"
      ],
      "text/plain": [
       "<IPython.core.display.HTML object>"
      ]
     },
     "metadata": {},
     "output_type": "display_data"
    },
    {
     "data": {
      "text/html": [
       "<style>\n",
       "    table.wandb td:nth-child(1) { padding: 0 10px; text-align: right }\n",
       "    .wandb-row { display: flex; flex-direction: row; flex-wrap: wrap; width: 100% }\n",
       "    .wandb-col { display: flex; flex-direction: column; flex-basis: 100%; flex: 1; padding: 10px; }\n",
       "    </style>\n",
       "<div class=\"wandb-row\"><div class=\"wandb-col\"><h3>Run history:</h3><br/><table class=\"wandb\"><tr><td>Coherence</td><td>█▁▁▁▁</td></tr><tr><td>Convergence</td><td>█▃▂▂▁</td></tr><tr><td>Perplexity</td><td>█▄▂▁▁</td></tr></table><br/></div><div class=\"wandb-col\"><h3>Run summary:</h3><br/><table class=\"wandb\"><tr><td>Coherence</td><td>-1.19542</td></tr><tr><td>Convergence</td><td>5.82591</td></tr><tr><td>Perplexity</td><td>469.18376</td></tr><tr><td>time_elapsed</td><td>0:11:15.964848</td></tr></table><br/></div></div>"
      ],
      "text/plain": [
       "<IPython.core.display.HTML object>"
      ]
     },
     "metadata": {},
     "output_type": "display_data"
    },
    {
     "data": {
      "text/html": [
       "Synced <strong style=\"color:#cdcd00\">i20p5t12</strong>: <a href=\"https://wandb.ai/angelika/lda-labelled-subset/runs/pwlfc5c2\" target=\"_blank\">https://wandb.ai/angelika/lda-labelled-subset/runs/pwlfc5c2</a><br/>Synced 4 W&B file(s), 0 media file(s), 0 artifact file(s) and 0 other file(s)"
      ],
      "text/plain": [
       "<IPython.core.display.HTML object>"
      ]
     },
     "metadata": {},
     "output_type": "display_data"
    },
    {
     "data": {
      "text/html": [
       "Find logs at: <code>.\\wandb\\run-20220509_162204-pwlfc5c2\\logs</code>"
      ],
      "text/plain": [
       "<IPython.core.display.HTML object>"
      ]
     },
     "metadata": {},
     "output_type": "display_data"
    },
    {
     "data": {
      "text/html": [
       "wandb version 0.12.16 is available!  To upgrade, please run:\n",
       " $ pip install wandb --upgrade"
      ],
      "text/plain": [
       "<IPython.core.display.HTML object>"
      ]
     },
     "metadata": {},
     "output_type": "display_data"
    },
    {
     "data": {
      "text/html": [
       "Tracking run with wandb version 0.12.15"
      ],
      "text/plain": [
       "<IPython.core.display.HTML object>"
      ]
     },
     "metadata": {},
     "output_type": "display_data"
    },
    {
     "data": {
      "text/html": [
       "Run data is saved locally in <code>c:\\Users\\angel\\Documents\\fourthbrain-glg\\scripts\\wandb\\run-20220509_163326-3lu46sgk</code>"
      ],
      "text/plain": [
       "<IPython.core.display.HTML object>"
      ]
     },
     "metadata": {},
     "output_type": "display_data"
    },
    {
     "data": {
      "text/html": [
       "Syncing run <strong><a href=\"https://wandb.ai/angelika/lda-labelled-subset/runs/3lu46sgk\" target=\"_blank\">i20p5t24</a></strong> to <a href=\"https://wandb.ai/angelika/lda-labelled-subset\" target=\"_blank\">Weights & Biases</a> (<a href=\"https://wandb.me/run\" target=\"_blank\">docs</a>)<br/>"
      ],
      "text/plain": [
       "<IPython.core.display.HTML object>"
      ]
     },
     "metadata": {},
     "output_type": "display_data"
    },
    {
     "data": {
      "text/html": [
       "Waiting for W&B process to finish... <strong style=\"color:green\">(success).</strong>"
      ],
      "text/plain": [
       "<IPython.core.display.HTML object>"
      ]
     },
     "metadata": {},
     "output_type": "display_data"
    },
    {
     "data": {
      "text/html": [
       "<style>\n",
       "    table.wandb td:nth-child(1) { padding: 0 10px; text-align: right }\n",
       "    .wandb-row { display: flex; flex-direction: row; flex-wrap: wrap; width: 100% }\n",
       "    .wandb-col { display: flex; flex-direction: column; flex-basis: 100%; flex: 1; padding: 10px; }\n",
       "    </style>\n",
       "<div class=\"wandb-row\"><div class=\"wandb-col\"><h3>Run history:</h3><br/><table class=\"wandb\"><tr><td>Coherence</td><td>█▄▃▄▁</td></tr><tr><td>Convergence</td><td>█▂▂▂▁</td></tr><tr><td>Perplexity</td><td>█▄▂▂▁</td></tr></table><br/></div><div class=\"wandb-col\"><h3>Run summary:</h3><br/><table class=\"wandb\"><tr><td>Coherence</td><td>-1.33916</td></tr><tr><td>Convergence</td><td>6.30824</td></tr><tr><td>Perplexity</td><td>651.51159</td></tr><tr><td>time_elapsed</td><td>0:11:49.216288</td></tr></table><br/></div></div>"
      ],
      "text/plain": [
       "<IPython.core.display.HTML object>"
      ]
     },
     "metadata": {},
     "output_type": "display_data"
    },
    {
     "data": {
      "text/html": [
       "Synced <strong style=\"color:#cdcd00\">i20p5t24</strong>: <a href=\"https://wandb.ai/angelika/lda-labelled-subset/runs/3lu46sgk\" target=\"_blank\">https://wandb.ai/angelika/lda-labelled-subset/runs/3lu46sgk</a><br/>Synced 4 W&B file(s), 0 media file(s), 0 artifact file(s) and 0 other file(s)"
      ],
      "text/plain": [
       "<IPython.core.display.HTML object>"
      ]
     },
     "metadata": {},
     "output_type": "display_data"
    },
    {
     "data": {
      "text/html": [
       "Find logs at: <code>.\\wandb\\run-20220509_163326-3lu46sgk\\logs</code>"
      ],
      "text/plain": [
       "<IPython.core.display.HTML object>"
      ]
     },
     "metadata": {},
     "output_type": "display_data"
    },
    {
     "data": {
      "text/html": [
       "wandb version 0.12.16 is available!  To upgrade, please run:\n",
       " $ pip install wandb --upgrade"
      ],
      "text/plain": [
       "<IPython.core.display.HTML object>"
      ]
     },
     "metadata": {},
     "output_type": "display_data"
    },
    {
     "data": {
      "text/html": [
       "Tracking run with wandb version 0.12.15"
      ],
      "text/plain": [
       "<IPython.core.display.HTML object>"
      ]
     },
     "metadata": {},
     "output_type": "display_data"
    },
    {
     "data": {
      "text/html": [
       "Run data is saved locally in <code>c:\\Users\\angel\\Documents\\fourthbrain-glg\\scripts\\wandb\\run-20220509_164521-36gpt9ac</code>"
      ],
      "text/plain": [
       "<IPython.core.display.HTML object>"
      ]
     },
     "metadata": {},
     "output_type": "display_data"
    },
    {
     "data": {
      "text/html": [
       "Syncing run <strong><a href=\"https://wandb.ai/angelika/lda-labelled-subset/runs/36gpt9ac\" target=\"_blank\">i20p5t48</a></strong> to <a href=\"https://wandb.ai/angelika/lda-labelled-subset\" target=\"_blank\">Weights & Biases</a> (<a href=\"https://wandb.me/run\" target=\"_blank\">docs</a>)<br/>"
      ],
      "text/plain": [
       "<IPython.core.display.HTML object>"
      ]
     },
     "metadata": {},
     "output_type": "display_data"
    },
    {
     "data": {
      "text/html": [
       "Waiting for W&B process to finish... <strong style=\"color:green\">(success).</strong>"
      ],
      "text/plain": [
       "<IPython.core.display.HTML object>"
      ]
     },
     "metadata": {},
     "output_type": "display_data"
    },
    {
     "data": {
      "text/html": [
       "<style>\n",
       "    table.wandb td:nth-child(1) { padding: 0 10px; text-align: right }\n",
       "    .wandb-row { display: flex; flex-direction: row; flex-wrap: wrap; width: 100% }\n",
       "    .wandb-col { display: flex; flex-direction: column; flex-basis: 100%; flex: 1; padding: 10px; }\n",
       "    </style>\n",
       "<div class=\"wandb-row\"><div class=\"wandb-col\"><h3>Run history:</h3><br/><table class=\"wandb\"><tr><td>Coherence</td><td>▁▁▄▇█</td></tr><tr><td>Convergence</td><td>█▂▁▁▁</td></tr><tr><td>Perplexity</td><td>█▅▃▂▁</td></tr></table><br/></div><div class=\"wandb-col\"><h3>Run summary:</h3><br/><table class=\"wandb\"><tr><td>Coherence</td><td>-1.74287</td></tr><tr><td>Convergence</td><td>17.95407</td></tr><tr><td>Perplexity</td><td>1381.0519</td></tr><tr><td>time_elapsed</td><td>0:15:22.459977</td></tr></table><br/></div></div>"
      ],
      "text/plain": [
       "<IPython.core.display.HTML object>"
      ]
     },
     "metadata": {},
     "output_type": "display_data"
    },
    {
     "data": {
      "text/html": [
       "Synced <strong style=\"color:#cdcd00\">i20p5t48</strong>: <a href=\"https://wandb.ai/angelika/lda-labelled-subset/runs/36gpt9ac\" target=\"_blank\">https://wandb.ai/angelika/lda-labelled-subset/runs/36gpt9ac</a><br/>Synced 4 W&B file(s), 0 media file(s), 0 artifact file(s) and 0 other file(s)"
      ],
      "text/plain": [
       "<IPython.core.display.HTML object>"
      ]
     },
     "metadata": {},
     "output_type": "display_data"
    },
    {
     "data": {
      "text/html": [
       "Find logs at: <code>.\\wandb\\run-20220509_164521-36gpt9ac\\logs</code>"
      ],
      "text/plain": [
       "<IPython.core.display.HTML object>"
      ]
     },
     "metadata": {},
     "output_type": "display_data"
    },
    {
     "data": {
      "text/html": [
       "wandb version 0.12.16 is available!  To upgrade, please run:\n",
       " $ pip install wandb --upgrade"
      ],
      "text/plain": [
       "<IPython.core.display.HTML object>"
      ]
     },
     "metadata": {},
     "output_type": "display_data"
    },
    {
     "data": {
      "text/html": [
       "Tracking run with wandb version 0.12.15"
      ],
      "text/plain": [
       "<IPython.core.display.HTML object>"
      ]
     },
     "metadata": {},
     "output_type": "display_data"
    },
    {
     "data": {
      "text/html": [
       "Run data is saved locally in <code>c:\\Users\\angel\\Documents\\fourthbrain-glg\\scripts\\wandb\\run-20220509_170050-d9dwz1cl</code>"
      ],
      "text/plain": [
       "<IPython.core.display.HTML object>"
      ]
     },
     "metadata": {},
     "output_type": "display_data"
    },
    {
     "data": {
      "text/html": [
       "Syncing run <strong><a href=\"https://wandb.ai/angelika/lda-labelled-subset/runs/d9dwz1cl\" target=\"_blank\">i50p5t4</a></strong> to <a href=\"https://wandb.ai/angelika/lda-labelled-subset\" target=\"_blank\">Weights & Biases</a> (<a href=\"https://wandb.me/run\" target=\"_blank\">docs</a>)<br/>"
      ],
      "text/plain": [
       "<IPython.core.display.HTML object>"
      ]
     },
     "metadata": {},
     "output_type": "display_data"
    },
    {
     "data": {
      "text/html": [
       "Waiting for W&B process to finish... <strong style=\"color:green\">(success).</strong>"
      ],
      "text/plain": [
       "<IPython.core.display.HTML object>"
      ]
     },
     "metadata": {},
     "output_type": "display_data"
    },
    {
     "data": {
      "text/html": [
       "<style>\n",
       "    table.wandb td:nth-child(1) { padding: 0 10px; text-align: right }\n",
       "    .wandb-row { display: flex; flex-direction: row; flex-wrap: wrap; width: 100% }\n",
       "    .wandb-col { display: flex; flex-direction: column; flex-basis: 100%; flex: 1; padding: 10px; }\n",
       "    </style>\n",
       "<div class=\"wandb-row\"><div class=\"wandb-col\"><h3>Run history:</h3><br/><table class=\"wandb\"><tr><td>Coherence</td><td>█▁▁▂▃</td></tr><tr><td>Convergence</td><td>█▆▃▁▂</td></tr><tr><td>Perplexity</td><td>█▃▂▁▁</td></tr></table><br/></div><div class=\"wandb-col\"><h3>Run summary:</h3><br/><table class=\"wandb\"><tr><td>Coherence</td><td>-0.94974</td></tr><tr><td>Convergence</td><td>2.0099</td></tr><tr><td>Perplexity</td><td>368.66973</td></tr><tr><td>time_elapsed</td><td>0:12:46.593027</td></tr></table><br/></div></div>"
      ],
      "text/plain": [
       "<IPython.core.display.HTML object>"
      ]
     },
     "metadata": {},
     "output_type": "display_data"
    },
    {
     "data": {
      "text/html": [
       "Synced <strong style=\"color:#cdcd00\">i50p5t4</strong>: <a href=\"https://wandb.ai/angelika/lda-labelled-subset/runs/d9dwz1cl\" target=\"_blank\">https://wandb.ai/angelika/lda-labelled-subset/runs/d9dwz1cl</a><br/>Synced 4 W&B file(s), 0 media file(s), 0 artifact file(s) and 0 other file(s)"
      ],
      "text/plain": [
       "<IPython.core.display.HTML object>"
      ]
     },
     "metadata": {},
     "output_type": "display_data"
    },
    {
     "data": {
      "text/html": [
       "Find logs at: <code>.\\wandb\\run-20220509_170050-d9dwz1cl\\logs</code>"
      ],
      "text/plain": [
       "<IPython.core.display.HTML object>"
      ]
     },
     "metadata": {},
     "output_type": "display_data"
    },
    {
     "data": {
      "text/html": [
       "wandb version 0.12.16 is available!  To upgrade, please run:\n",
       " $ pip install wandb --upgrade"
      ],
      "text/plain": [
       "<IPython.core.display.HTML object>"
      ]
     },
     "metadata": {},
     "output_type": "display_data"
    },
    {
     "data": {
      "text/html": [
       "Tracking run with wandb version 0.12.15"
      ],
      "text/plain": [
       "<IPython.core.display.HTML object>"
      ]
     },
     "metadata": {},
     "output_type": "display_data"
    },
    {
     "data": {
      "text/html": [
       "Run data is saved locally in <code>c:\\Users\\angel\\Documents\\fourthbrain-glg\\scripts\\wandb\\run-20220509_171343-9kkmx3cq</code>"
      ],
      "text/plain": [
       "<IPython.core.display.HTML object>"
      ]
     },
     "metadata": {},
     "output_type": "display_data"
    },
    {
     "data": {
      "text/html": [
       "Syncing run <strong><a href=\"https://wandb.ai/angelika/lda-labelled-subset/runs/9kkmx3cq\" target=\"_blank\">i50p5t8</a></strong> to <a href=\"https://wandb.ai/angelika/lda-labelled-subset\" target=\"_blank\">Weights & Biases</a> (<a href=\"https://wandb.me/run\" target=\"_blank\">docs</a>)<br/>"
      ],
      "text/plain": [
       "<IPython.core.display.HTML object>"
      ]
     },
     "metadata": {},
     "output_type": "display_data"
    },
    {
     "data": {
      "text/html": [
       "Waiting for W&B process to finish... <strong style=\"color:green\">(success).</strong>"
      ],
      "text/plain": [
       "<IPython.core.display.HTML object>"
      ]
     },
     "metadata": {},
     "output_type": "display_data"
    },
    {
     "data": {
      "text/html": [
       "<style>\n",
       "    table.wandb td:nth-child(1) { padding: 0 10px; text-align: right }\n",
       "    .wandb-row { display: flex; flex-direction: row; flex-wrap: wrap; width: 100% }\n",
       "    .wandb-col { display: flex; flex-direction: column; flex-basis: 100%; flex: 1; padding: 10px; }\n",
       "    </style>\n",
       "<div class=\"wandb-row\"><div class=\"wandb-col\"><h3>Run history:</h3><br/><table class=\"wandb\"><tr><td>Coherence</td><td>█▂▁▂▂</td></tr><tr><td>Convergence</td><td>█▃▁▁▁</td></tr><tr><td>Perplexity</td><td>█▄▂▁▁</td></tr></table><br/></div><div class=\"wandb-col\"><h3>Run summary:</h3><br/><table class=\"wandb\"><tr><td>Coherence</td><td>-1.17062</td></tr><tr><td>Convergence</td><td>2.19032</td></tr><tr><td>Perplexity</td><td>392.49166</td></tr><tr><td>time_elapsed</td><td>0:13:35.767729</td></tr></table><br/></div></div>"
      ],
      "text/plain": [
       "<IPython.core.display.HTML object>"
      ]
     },
     "metadata": {},
     "output_type": "display_data"
    },
    {
     "data": {
      "text/html": [
       "Synced <strong style=\"color:#cdcd00\">i50p5t8</strong>: <a href=\"https://wandb.ai/angelika/lda-labelled-subset/runs/9kkmx3cq\" target=\"_blank\">https://wandb.ai/angelika/lda-labelled-subset/runs/9kkmx3cq</a><br/>Synced 4 W&B file(s), 0 media file(s), 0 artifact file(s) and 0 other file(s)"
      ],
      "text/plain": [
       "<IPython.core.display.HTML object>"
      ]
     },
     "metadata": {},
     "output_type": "display_data"
    },
    {
     "data": {
      "text/html": [
       "Find logs at: <code>.\\wandb\\run-20220509_171343-9kkmx3cq\\logs</code>"
      ],
      "text/plain": [
       "<IPython.core.display.HTML object>"
      ]
     },
     "metadata": {},
     "output_type": "display_data"
    },
    {
     "data": {
      "text/html": [
       "wandb version 0.12.16 is available!  To upgrade, please run:\n",
       " $ pip install wandb --upgrade"
      ],
      "text/plain": [
       "<IPython.core.display.HTML object>"
      ]
     },
     "metadata": {},
     "output_type": "display_data"
    },
    {
     "data": {
      "text/html": [
       "Tracking run with wandb version 0.12.15"
      ],
      "text/plain": [
       "<IPython.core.display.HTML object>"
      ]
     },
     "metadata": {},
     "output_type": "display_data"
    },
    {
     "data": {
      "text/html": [
       "Run data is saved locally in <code>c:\\Users\\angel\\Documents\\fourthbrain-glg\\scripts\\wandb\\run-20220509_172726-38fyqf3o</code>"
      ],
      "text/plain": [
       "<IPython.core.display.HTML object>"
      ]
     },
     "metadata": {},
     "output_type": "display_data"
    },
    {
     "data": {
      "text/html": [
       "Syncing run <strong><a href=\"https://wandb.ai/angelika/lda-labelled-subset/runs/38fyqf3o\" target=\"_blank\">i50p5t12</a></strong> to <a href=\"https://wandb.ai/angelika/lda-labelled-subset\" target=\"_blank\">Weights & Biases</a> (<a href=\"https://wandb.me/run\" target=\"_blank\">docs</a>)<br/>"
      ],
      "text/plain": [
       "<IPython.core.display.HTML object>"
      ]
     },
     "metadata": {},
     "output_type": "display_data"
    },
    {
     "ename": "KeyboardInterrupt",
     "evalue": "",
     "output_type": "error",
     "traceback": [
      "\u001b[1;31m---------------------------------------------------------------------------\u001b[0m",
      "\u001b[1;31mKeyboardInterrupt\u001b[0m                         Traceback (most recent call last)",
      "\u001b[1;32mc:\\Users\\angel\\Documents\\fourthbrain-glg\\scripts\\05 LDA Model Training.ipynb Cell 9'\u001b[0m in \u001b[0;36m<cell line: 6>\u001b[1;34m()\u001b[0m\n\u001b[0;32m     <a href='vscode-notebook-cell:/c%3A/Users/angel/Documents/fourthbrain-glg/scripts/05%20LDA%20Model%20Training.ipynb#ch0000005?line=18'>19</a>\u001b[0m wandb\u001b[39m.\u001b[39minit(\n\u001b[0;32m     <a href='vscode-notebook-cell:/c%3A/Users/angel/Documents/fourthbrain-glg/scripts/05%20LDA%20Model%20Training.ipynb#ch0000005?line=19'>20</a>\u001b[0m     project\u001b[39m=\u001b[39m\u001b[39m\"\u001b[39m\u001b[39mlda-labelled-subset\u001b[39m\u001b[39m\"\u001b[39m,\n\u001b[0;32m     <a href='vscode-notebook-cell:/c%3A/Users/angel/Documents/fourthbrain-glg/scripts/05%20LDA%20Model%20Training.ipynb#ch0000005?line=20'>21</a>\u001b[0m     entity\u001b[39m=\u001b[39m\u001b[39m\"\u001b[39m\u001b[39mangelika\u001b[39m\u001b[39m\"\u001b[39m,\n\u001b[1;32m   (...)\u001b[0m\n\u001b[0;32m     <a href='vscode-notebook-cell:/c%3A/Users/angel/Documents/fourthbrain-glg/scripts/05%20LDA%20Model%20Training.ipynb#ch0000005?line=24'>25</a>\u001b[0m     config\u001b[39m=\u001b[39mconfig,\n\u001b[0;32m     <a href='vscode-notebook-cell:/c%3A/Users/angel/Documents/fourthbrain-glg/scripts/05%20LDA%20Model%20Training.ipynb#ch0000005?line=25'>26</a>\u001b[0m )\n\u001b[0;32m     <a href='vscode-notebook-cell:/c%3A/Users/angel/Documents/fourthbrain-glg/scripts/05%20LDA%20Model%20Training.ipynb#ch0000005?line=27'>28</a>\u001b[0m \u001b[39m# Create model - note callbacks argument uses list of created callback loggers\u001b[39;00m\n\u001b[1;32m---> <a href='vscode-notebook-cell:/c%3A/Users/angel/Documents/fourthbrain-glg/scripts/05%20LDA%20Model%20Training.ipynb#ch0000005?line=28'>29</a>\u001b[0m model \u001b[39m=\u001b[39m LdaModel(corpus\u001b[39m=\u001b[39;49mcorpus,\n\u001b[0;32m     <a href='vscode-notebook-cell:/c%3A/Users/angel/Documents/fourthbrain-glg/scripts/05%20LDA%20Model%20Training.ipynb#ch0000005?line=29'>30</a>\u001b[0m          id2word\u001b[39m=\u001b[39;49mdictionary,\n\u001b[0;32m     <a href='vscode-notebook-cell:/c%3A/Users/angel/Documents/fourthbrain-glg/scripts/05%20LDA%20Model%20Training.ipynb#ch0000005?line=30'>31</a>\u001b[0m          num_topics\u001b[39m=\u001b[39;49mtopics,\n\u001b[0;32m     <a href='vscode-notebook-cell:/c%3A/Users/angel/Documents/fourthbrain-glg/scripts/05%20LDA%20Model%20Training.ipynb#ch0000005?line=31'>32</a>\u001b[0m         \u001b[39m#  eval_every=20,\u001b[39;49;00m\n\u001b[0;32m     <a href='vscode-notebook-cell:/c%3A/Users/angel/Documents/fourthbrain-glg/scripts/05%20LDA%20Model%20Training.ipynb#ch0000005?line=32'>33</a>\u001b[0m          passes\u001b[39m=\u001b[39;49mpasses,\n\u001b[0;32m     <a href='vscode-notebook-cell:/c%3A/Users/angel/Documents/fourthbrain-glg/scripts/05%20LDA%20Model%20Training.ipynb#ch0000005?line=33'>34</a>\u001b[0m          iterations\u001b[39m=\u001b[39;49miterations,\n\u001b[0;32m     <a href='vscode-notebook-cell:/c%3A/Users/angel/Documents/fourthbrain-glg/scripts/05%20LDA%20Model%20Training.ipynb#ch0000005?line=34'>35</a>\u001b[0m          random_state\u001b[39m=\u001b[39;49m\u001b[39m100\u001b[39;49m,         \n\u001b[0;32m     <a href='vscode-notebook-cell:/c%3A/Users/angel/Documents/fourthbrain-glg/scripts/05%20LDA%20Model%20Training.ipynb#ch0000005?line=35'>36</a>\u001b[0m         callbacks\u001b[39m=\u001b[39;49m[convergence_logger, perplexity_logger, coherence_umass_logger])\n\u001b[0;32m     <a href='vscode-notebook-cell:/c%3A/Users/angel/Documents/fourthbrain-glg/scripts/05%20LDA%20Model%20Training.ipynb#ch0000005?line=37'>38</a>\u001b[0m \u001b[39m# Log metrics\u001b[39;00m\n\u001b[0;32m     <a href='vscode-notebook-cell:/c%3A/Users/angel/Documents/fourthbrain-glg/scripts/05%20LDA%20Model%20Training.ipynb#ch0000005?line=38'>39</a>\u001b[0m \u001b[39mfor\u001b[39;00m con, coh, per \u001b[39min\u001b[39;00m \u001b[39mzip\u001b[39m(model\u001b[39m.\u001b[39mmetrics[\u001b[39m\"\u001b[39m\u001b[39mConvergence\u001b[39m\u001b[39m\"\u001b[39m], model\u001b[39m.\u001b[39mmetrics[\u001b[39m\"\u001b[39m\u001b[39mCoherence\u001b[39m\u001b[39m\"\u001b[39m], model\u001b[39m.\u001b[39mmetrics[\u001b[39m\"\u001b[39m\u001b[39mPerplexity\u001b[39m\u001b[39m\"\u001b[39m]):\n",
      "File \u001b[1;32mc:\\Users\\angel\\miniconda3\\envs\\fourthbrain-glg\\lib\\site-packages\\gensim\\models\\ldamodel.py:520\u001b[0m, in \u001b[0;36mLdaModel.__init__\u001b[1;34m(self, corpus, num_topics, id2word, distributed, chunksize, passes, update_every, alpha, eta, decay, offset, eval_every, iterations, gamma_threshold, minimum_probability, random_state, ns_conf, minimum_phi_value, per_word_topics, callbacks, dtype)\u001b[0m\n\u001b[0;32m    <a href='file:///c%3A/Users/angel/miniconda3/envs/fourthbrain-glg/lib/site-packages/gensim/models/ldamodel.py?line=517'>518</a>\u001b[0m use_numpy \u001b[39m=\u001b[39m \u001b[39mself\u001b[39m\u001b[39m.\u001b[39mdispatcher \u001b[39mis\u001b[39;00m \u001b[39mnot\u001b[39;00m \u001b[39mNone\u001b[39;00m\n\u001b[0;32m    <a href='file:///c%3A/Users/angel/miniconda3/envs/fourthbrain-glg/lib/site-packages/gensim/models/ldamodel.py?line=518'>519</a>\u001b[0m start \u001b[39m=\u001b[39m time\u001b[39m.\u001b[39mtime()\n\u001b[1;32m--> <a href='file:///c%3A/Users/angel/miniconda3/envs/fourthbrain-glg/lib/site-packages/gensim/models/ldamodel.py?line=519'>520</a>\u001b[0m \u001b[39mself\u001b[39;49m\u001b[39m.\u001b[39;49mupdate(corpus, chunks_as_numpy\u001b[39m=\u001b[39;49muse_numpy)\n\u001b[0;32m    <a href='file:///c%3A/Users/angel/miniconda3/envs/fourthbrain-glg/lib/site-packages/gensim/models/ldamodel.py?line=520'>521</a>\u001b[0m \u001b[39mself\u001b[39m\u001b[39m.\u001b[39madd_lifecycle_event(\n\u001b[0;32m    <a href='file:///c%3A/Users/angel/miniconda3/envs/fourthbrain-glg/lib/site-packages/gensim/models/ldamodel.py?line=521'>522</a>\u001b[0m     \u001b[39m\"\u001b[39m\u001b[39mcreated\u001b[39m\u001b[39m\"\u001b[39m,\n\u001b[0;32m    <a href='file:///c%3A/Users/angel/miniconda3/envs/fourthbrain-glg/lib/site-packages/gensim/models/ldamodel.py?line=522'>523</a>\u001b[0m     msg\u001b[39m=\u001b[39m\u001b[39mf\u001b[39m\u001b[39m\"\u001b[39m\u001b[39mtrained \u001b[39m\u001b[39m{\u001b[39;00m\u001b[39mself\u001b[39m\u001b[39m}\u001b[39;00m\u001b[39m in \u001b[39m\u001b[39m{\u001b[39;00mtime\u001b[39m.\u001b[39mtime() \u001b[39m-\u001b[39m start\u001b[39m:\u001b[39;00m\u001b[39m.2f\u001b[39m\u001b[39m}\u001b[39;00m\u001b[39ms\u001b[39m\u001b[39m\"\u001b[39m,\n\u001b[0;32m    <a href='file:///c%3A/Users/angel/miniconda3/envs/fourthbrain-glg/lib/site-packages/gensim/models/ldamodel.py?line=523'>524</a>\u001b[0m )\n",
      "File \u001b[1;32mc:\\Users\\angel\\miniconda3\\envs\\fourthbrain-glg\\lib\\site-packages\\gensim\\models\\ldamodel.py:1034\u001b[0m, in \u001b[0;36mLdaModel.update\u001b[1;34m(self, corpus, chunksize, decay, offset, passes, update_every, eval_every, iterations, gamma_threshold, chunks_as_numpy)\u001b[0m\n\u001b[0;32m   <a href='file:///c%3A/Users/angel/miniconda3/envs/fourthbrain-glg/lib/site-packages/gensim/models/ldamodel.py?line=1031'>1032</a>\u001b[0m \u001b[39m# append current epoch's metric values\u001b[39;00m\n\u001b[0;32m   <a href='file:///c%3A/Users/angel/miniconda3/envs/fourthbrain-glg/lib/site-packages/gensim/models/ldamodel.py?line=1032'>1033</a>\u001b[0m \u001b[39mif\u001b[39;00m \u001b[39mself\u001b[39m\u001b[39m.\u001b[39mcallbacks:\n\u001b[1;32m-> <a href='file:///c%3A/Users/angel/miniconda3/envs/fourthbrain-glg/lib/site-packages/gensim/models/ldamodel.py?line=1033'>1034</a>\u001b[0m     current_metrics \u001b[39m=\u001b[39m callback\u001b[39m.\u001b[39;49mon_epoch_end(pass_)\n\u001b[0;32m   <a href='file:///c%3A/Users/angel/miniconda3/envs/fourthbrain-glg/lib/site-packages/gensim/models/ldamodel.py?line=1034'>1035</a>\u001b[0m     \u001b[39mfor\u001b[39;00m metric, value \u001b[39min\u001b[39;00m current_metrics\u001b[39m.\u001b[39mitems():\n\u001b[0;32m   <a href='file:///c%3A/Users/angel/miniconda3/envs/fourthbrain-glg/lib/site-packages/gensim/models/ldamodel.py?line=1035'>1036</a>\u001b[0m         \u001b[39mself\u001b[39m\u001b[39m.\u001b[39mmetrics[metric]\u001b[39m.\u001b[39mappend(value)\n",
      "File \u001b[1;32mc:\\Users\\angel\\miniconda3\\envs\\fourthbrain-glg\\lib\\site-packages\\gensim\\models\\callbacks.py:520\u001b[0m, in \u001b[0;36mCallback.on_epoch_end\u001b[1;34m(self, epoch, topics)\u001b[0m\n\u001b[0;32m    <a href='file:///c%3A/Users/angel/miniconda3/envs/fourthbrain-glg/lib/site-packages/gensim/models/callbacks.py?line=517'>518</a>\u001b[0m \u001b[39mfor\u001b[39;00m i, metric \u001b[39min\u001b[39;00m \u001b[39menumerate\u001b[39m(\u001b[39mself\u001b[39m\u001b[39m.\u001b[39mmetrics):\n\u001b[0;32m    <a href='file:///c%3A/Users/angel/miniconda3/envs/fourthbrain-glg/lib/site-packages/gensim/models/callbacks.py?line=518'>519</a>\u001b[0m     label \u001b[39m=\u001b[39m \u001b[39mstr\u001b[39m(metric)\n\u001b[1;32m--> <a href='file:///c%3A/Users/angel/miniconda3/envs/fourthbrain-glg/lib/site-packages/gensim/models/callbacks.py?line=519'>520</a>\u001b[0m     value \u001b[39m=\u001b[39m metric\u001b[39m.\u001b[39;49mget_value(topics\u001b[39m=\u001b[39;49mtopics, model\u001b[39m=\u001b[39;49m\u001b[39mself\u001b[39;49m\u001b[39m.\u001b[39;49mmodel, other_model\u001b[39m=\u001b[39;49m\u001b[39mself\u001b[39;49m\u001b[39m.\u001b[39;49mprevious)\n\u001b[0;32m    <a href='file:///c%3A/Users/angel/miniconda3/envs/fourthbrain-glg/lib/site-packages/gensim/models/callbacks.py?line=521'>522</a>\u001b[0m     current_metrics[label] \u001b[39m=\u001b[39m value\n\u001b[0;32m    <a href='file:///c%3A/Users/angel/miniconda3/envs/fourthbrain-glg/lib/site-packages/gensim/models/callbacks.py?line=523'>524</a>\u001b[0m     \u001b[39mif\u001b[39;00m metric\u001b[39m.\u001b[39mlogger \u001b[39m==\u001b[39m \u001b[39m\"\u001b[39m\u001b[39mvisdom\u001b[39m\u001b[39m\"\u001b[39m:\n",
      "File \u001b[1;32mc:\\Users\\angel\\miniconda3\\envs\\fourthbrain-glg\\lib\\site-packages\\gensim\\models\\callbacks.py:305\u001b[0m, in \u001b[0;36mPerplexityMetric.get_value\u001b[1;34m(self, **kwargs)\u001b[0m\n\u001b[0;32m    <a href='file:///c%3A/Users/angel/miniconda3/envs/fourthbrain-glg/lib/site-packages/gensim/models/callbacks.py?line=286'>287</a>\u001b[0m \u001b[39m\"\"\"Get the coherence score.\u001b[39;00m\n\u001b[0;32m    <a href='file:///c%3A/Users/angel/miniconda3/envs/fourthbrain-glg/lib/site-packages/gensim/models/callbacks.py?line=287'>288</a>\u001b[0m \n\u001b[0;32m    <a href='file:///c%3A/Users/angel/miniconda3/envs/fourthbrain-glg/lib/site-packages/gensim/models/callbacks.py?line=288'>289</a>\u001b[0m \u001b[39mParameters\u001b[39;00m\n\u001b[1;32m   (...)\u001b[0m\n\u001b[0;32m    <a href='file:///c%3A/Users/angel/miniconda3/envs/fourthbrain-glg/lib/site-packages/gensim/models/callbacks.py?line=301'>302</a>\u001b[0m \n\u001b[0;32m    <a href='file:///c%3A/Users/angel/miniconda3/envs/fourthbrain-glg/lib/site-packages/gensim/models/callbacks.py?line=302'>303</a>\u001b[0m \u001b[39m\"\"\"\u001b[39;00m\n\u001b[0;32m    <a href='file:///c%3A/Users/angel/miniconda3/envs/fourthbrain-glg/lib/site-packages/gensim/models/callbacks.py?line=303'>304</a>\u001b[0m \u001b[39msuper\u001b[39m(PerplexityMetric, \u001b[39mself\u001b[39m)\u001b[39m.\u001b[39mset_parameters(\u001b[39m*\u001b[39m\u001b[39m*\u001b[39mkwargs)\n\u001b[1;32m--> <a href='file:///c%3A/Users/angel/miniconda3/envs/fourthbrain-glg/lib/site-packages/gensim/models/callbacks.py?line=304'>305</a>\u001b[0m corpus_words \u001b[39m=\u001b[39m \u001b[39msum\u001b[39;49m(cnt \u001b[39mfor\u001b[39;49;00m document \u001b[39min\u001b[39;49;00m \u001b[39mself\u001b[39;49m\u001b[39m.\u001b[39;49mcorpus \u001b[39mfor\u001b[39;49;00m _, cnt \u001b[39min\u001b[39;49;00m document)\n\u001b[0;32m    <a href='file:///c%3A/Users/angel/miniconda3/envs/fourthbrain-glg/lib/site-packages/gensim/models/callbacks.py?line=305'>306</a>\u001b[0m perwordbound \u001b[39m=\u001b[39m \u001b[39mself\u001b[39m\u001b[39m.\u001b[39mmodel\u001b[39m.\u001b[39mbound(\u001b[39mself\u001b[39m\u001b[39m.\u001b[39mcorpus) \u001b[39m/\u001b[39m corpus_words\n\u001b[0;32m    <a href='file:///c%3A/Users/angel/miniconda3/envs/fourthbrain-glg/lib/site-packages/gensim/models/callbacks.py?line=306'>307</a>\u001b[0m \u001b[39mreturn\u001b[39;00m np\u001b[39m.\u001b[39mexp2(\u001b[39m-\u001b[39mperwordbound)\n",
      "File \u001b[1;32mc:\\Users\\angel\\miniconda3\\envs\\fourthbrain-glg\\lib\\site-packages\\gensim\\models\\callbacks.py:305\u001b[0m, in \u001b[0;36m<genexpr>\u001b[1;34m(.0)\u001b[0m\n\u001b[0;32m    <a href='file:///c%3A/Users/angel/miniconda3/envs/fourthbrain-glg/lib/site-packages/gensim/models/callbacks.py?line=286'>287</a>\u001b[0m \u001b[39m\"\"\"Get the coherence score.\u001b[39;00m\n\u001b[0;32m    <a href='file:///c%3A/Users/angel/miniconda3/envs/fourthbrain-glg/lib/site-packages/gensim/models/callbacks.py?line=287'>288</a>\u001b[0m \n\u001b[0;32m    <a href='file:///c%3A/Users/angel/miniconda3/envs/fourthbrain-glg/lib/site-packages/gensim/models/callbacks.py?line=288'>289</a>\u001b[0m \u001b[39mParameters\u001b[39;00m\n\u001b[1;32m   (...)\u001b[0m\n\u001b[0;32m    <a href='file:///c%3A/Users/angel/miniconda3/envs/fourthbrain-glg/lib/site-packages/gensim/models/callbacks.py?line=301'>302</a>\u001b[0m \n\u001b[0;32m    <a href='file:///c%3A/Users/angel/miniconda3/envs/fourthbrain-glg/lib/site-packages/gensim/models/callbacks.py?line=302'>303</a>\u001b[0m \u001b[39m\"\"\"\u001b[39;00m\n\u001b[0;32m    <a href='file:///c%3A/Users/angel/miniconda3/envs/fourthbrain-glg/lib/site-packages/gensim/models/callbacks.py?line=303'>304</a>\u001b[0m \u001b[39msuper\u001b[39m(PerplexityMetric, \u001b[39mself\u001b[39m)\u001b[39m.\u001b[39mset_parameters(\u001b[39m*\u001b[39m\u001b[39m*\u001b[39mkwargs)\n\u001b[1;32m--> <a href='file:///c%3A/Users/angel/miniconda3/envs/fourthbrain-glg/lib/site-packages/gensim/models/callbacks.py?line=304'>305</a>\u001b[0m corpus_words \u001b[39m=\u001b[39m \u001b[39msum\u001b[39m(cnt \u001b[39mfor\u001b[39;00m document \u001b[39min\u001b[39;00m \u001b[39mself\u001b[39m\u001b[39m.\u001b[39mcorpus \u001b[39mfor\u001b[39;00m _, cnt \u001b[39min\u001b[39;00m document)\n\u001b[0;32m    <a href='file:///c%3A/Users/angel/miniconda3/envs/fourthbrain-glg/lib/site-packages/gensim/models/callbacks.py?line=305'>306</a>\u001b[0m perwordbound \u001b[39m=\u001b[39m \u001b[39mself\u001b[39m\u001b[39m.\u001b[39mmodel\u001b[39m.\u001b[39mbound(\u001b[39mself\u001b[39m\u001b[39m.\u001b[39mcorpus) \u001b[39m/\u001b[39m corpus_words\n\u001b[0;32m    <a href='file:///c%3A/Users/angel/miniconda3/envs/fourthbrain-glg/lib/site-packages/gensim/models/callbacks.py?line=306'>307</a>\u001b[0m \u001b[39mreturn\u001b[39;00m np\u001b[39m.\u001b[39mexp2(\u001b[39m-\u001b[39mperwordbound)\n",
      "File \u001b[1;32mc:\\Users\\angel\\miniconda3\\envs\\fourthbrain-glg\\lib\\site-packages\\gensim\\corpora\\mmcorpus.py:72\u001b[0m, in \u001b[0;36mMmCorpus.__iter__\u001b[1;34m(self)\u001b[0m\n\u001b[0;32m     <a href='file:///c%3A/Users/angel/miniconda3/envs/fourthbrain-glg/lib/site-packages/gensim/corpora/mmcorpus.py?line=56'>57</a>\u001b[0m \u001b[39mdef\u001b[39;00m \u001b[39m__iter__\u001b[39m(\u001b[39mself\u001b[39m):\n\u001b[0;32m     <a href='file:///c%3A/Users/angel/miniconda3/envs/fourthbrain-glg/lib/site-packages/gensim/corpora/mmcorpus.py?line=57'>58</a>\u001b[0m     \u001b[39m\"\"\"Iterate through all documents.\u001b[39;00m\n\u001b[0;32m     <a href='file:///c%3A/Users/angel/miniconda3/envs/fourthbrain-glg/lib/site-packages/gensim/corpora/mmcorpus.py?line=58'>59</a>\u001b[0m \n\u001b[0;32m     <a href='file:///c%3A/Users/angel/miniconda3/envs/fourthbrain-glg/lib/site-packages/gensim/corpora/mmcorpus.py?line=59'>60</a>\u001b[0m \u001b[39m    Yields\u001b[39;00m\n\u001b[1;32m   (...)\u001b[0m\n\u001b[0;32m     <a href='file:///c%3A/Users/angel/miniconda3/envs/fourthbrain-glg/lib/site-packages/gensim/corpora/mmcorpus.py?line=69'>70</a>\u001b[0m \n\u001b[0;32m     <a href='file:///c%3A/Users/angel/miniconda3/envs/fourthbrain-glg/lib/site-packages/gensim/corpora/mmcorpus.py?line=70'>71</a>\u001b[0m \u001b[39m    \"\"\"\u001b[39;00m\n\u001b[1;32m---> <a href='file:///c%3A/Users/angel/miniconda3/envs/fourthbrain-glg/lib/site-packages/gensim/corpora/mmcorpus.py?line=71'>72</a>\u001b[0m     \u001b[39mfor\u001b[39;00m doc_id, doc \u001b[39min\u001b[39;00m \u001b[39msuper\u001b[39m(MmCorpus, \u001b[39mself\u001b[39m)\u001b[39m.\u001b[39m\u001b[39m__iter__\u001b[39m():\n\u001b[0;32m     <a href='file:///c%3A/Users/angel/miniconda3/envs/fourthbrain-glg/lib/site-packages/gensim/corpora/mmcorpus.py?line=72'>73</a>\u001b[0m         \u001b[39myield\u001b[39;00m doc\n",
      "\u001b[1;31mKeyboardInterrupt\u001b[0m: "
     ]
    }
   ],
   "source": [
    "num_passes = [5]\n",
    "num_iterations = [10, 20, 50]\n",
    "num_topics = [4, 8, 12, 24, 48]\n",
    "all_combinations = list(product(num_passes, num_iterations, num_topics))\n",
    "\n",
    "for passes, iterations, topics in all_combinations:\n",
    "    \n",
    "    start_time = datetime.now()\n",
    "    \n",
    "    config = {\n",
    "        \"topics\": topics,\n",
    "        \"passes\": passes,\n",
    "        \"iterations\": iterations,\n",
    "        \"coherence_metric\": 'u_mass',\n",
    "        \"model\": \"gensim.models.LdaModel\",\n",
    "        \"random_state\": 100\n",
    "    }\n",
    "\n",
    "    wandb.init(\n",
    "        project=\"lda-labelled-subset\",\n",
    "        entity=\"angelika\",\n",
    "        name = \"i{}p{}t{}\".format(iterations, passes, topics),\n",
    "#         notes=\"finding number of passes and iterations\",\n",
    "        tags=[\"sample50k_topic4\"],\n",
    "        config=config,\n",
    "    )\n",
    "   \n",
    "    # Create model - note callbacks argument uses list of created callback loggers\n",
    "    model = LdaModel(corpus=corpus,\n",
    "             id2word=dictionary,\n",
    "             num_topics=topics,\n",
    "            #  eval_every=20,\n",
    "             passes=passes,\n",
    "             iterations=iterations,\n",
    "             random_state=100,         \n",
    "            callbacks=[convergence_logger, perplexity_logger, coherence_umass_logger])\n",
    "\n",
    "    # Log metrics\n",
    "    for con, coh, per in zip(model.metrics[\"Convergence\"], model.metrics[\"Coherence\"], model.metrics[\"Perplexity\"]):\n",
    "        wandb.log({\"Convergence\": con,\n",
    "                  \"Coherence\": coh,\n",
    "                  \"Perplexity\": per})\n",
    "        \n",
    "    time_elapsed = datetime.now() - start_time   \n",
    "    wandb.log({\"time_elapsed\": str(time_elapsed)})\n",
    "    \n",
    "    # save model\n",
    "    model_fn = f\"{MODEL_PATH}/lda_{iterations}i{passes}p{topics}t.model\"\n",
    "    model.save(model_fn)\n",
    "    wandb.log({\"model_name\": model_fn})\n",
    "\n",
    "    wandb.finish()"
   ]
  },
  {
   "cell_type": "markdown",
   "metadata": {},
   "source": [
    "Multicore version"
   ]
  },
  {
   "cell_type": "markdown",
   "metadata": {},
   "source": [
    "num_passes = [5] # default 1\n",
    "num_iterations = [10, 20, 50] # default 50\n",
    "num_topics = [4, 8, 12, 24, 48]\n",
    "\n",
    "# Create experiments with different number of passes and iterations\n",
    "run_combinations = list(product(num_passes, num_iterations))\n",
    "\n",
    "for passes, iterations in run_combinations:\n",
    "\n",
    "    # Start new W&B run\n",
    "    config = {\n",
    "        \"topics\": topics,\n",
    "        \"passes\": passes,\n",
    "        \"iteration\": iteration,\n",
    "        \"coherence_metric\": 'u_mass',\n",
    "        \"model\": \"models.ldamulticore.LdaMulticore\",\n",
    "        \"workers\": 5 # number of cores minus 1\n",
    "    }\n",
    "\n",
    "    wandb.init(\n",
    "        project=\"lda-labelled-subset\",\n",
    "        entity=\"angelika\",\n",
    "        name = \"i{}p{}t{}\".format(iteration, passes, str(topics)),\n",
    "        tags=[\"sample50k_topic4\"],\n",
    "        config=config\n",
    "    )\n",
    "\n",
    "\n",
    "    for topic in topics:\n",
    "        \n",
    "        start_time = datetime.now()\n",
    "        \n",
    "        # Multicore model does not support callbacks\n",
    "        model = ldamulticore.LdaMulticore(corpus=corpus,\n",
    "                id2word=dictionary,\n",
    "                num_topics=topic,\n",
    "                passes=passes,\n",
    "                iterations=iteration,\n",
    "                random_state=100,\n",
    "                workers=5)\n",
    "\n",
    "        # Calculate metrics\n",
    "        cm = CoherenceModel(model=model, corpus=corpus, coherence='u_mass', topn=20)\n",
    "        coherence = cm.get_coherence()\n",
    "\n",
    "        cm2 = Co\n",
    "        \n",
    "        time_elapsed = datetime.now() - start_time\n",
    "        \n",
    "        wandb.log({\"Coherence\": coherence,\n",
    "                \"time_elapsed\": round(time_elapsed.total_seconds()/60, 2),\n",
    "                \"num_topic\": topic\n",
    "                })\n",
    "\n",
    "        # save model\n",
    "        model_fn = f\"{MODEL_PATH}/lda_{iterations}i{passes}p{topics}t.model\"\n",
    "        model.save(model_fn)    \n",
    "        wandb.log({\"model_name\": model_fn})\n",
    "        \n",
    "    wandb.finish()"
   ]
  },
  {
   "cell_type": "code",
   "execution_count": null,
   "metadata": {},
   "outputs": [],
   "source": []
  }
 ],
 "metadata": {
  "interpreter": {
   "hash": "feb9fbdaf8823060a978ec464cb9b002124d7b95a0c8d909409fa113c0eca975"
  },
  "kernelspec": {
   "display_name": "Python 3.8.13 ('fourthbrain-glg')",
   "language": "python",
   "name": "python3"
  },
  "language_info": {
   "codemirror_mode": {
    "name": "ipython",
    "version": 3
   },
   "file_extension": ".py",
   "mimetype": "text/x-python",
   "name": "python",
   "nbconvert_exporter": "python",
   "pygments_lexer": "ipython3",
   "version": "3.8.13"
  },
  "orig_nbformat": 4
 },
 "nbformat": 4,
 "nbformat_minor": 2
}
