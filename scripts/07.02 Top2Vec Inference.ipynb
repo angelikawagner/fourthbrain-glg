{
 "cells": [
  {
   "cell_type": "markdown",
   "metadata": {},
   "source": [
    "- Load the model.\n",
    "- Load hierarchy dictionary.\n",
    "- Process text: lower, split, keep words in model.vocab.\n",
    "- Inference with model.search_topic().\n",
    " - Get topic_words, word_scores, topic_scores, topic_nums.\n",
    " - Use threshold for num topics cutoff.\n",
    " - Code case where no topic meets cutoff. Return \"unkown\".\n",
    "- Enhancement: Exclude redundant words such as ipad and ipads."
   ]
  },
  {
   "cell_type": "code",
   "execution_count": 1,
   "metadata": {},
   "outputs": [],
   "source": [
    "from top2vec import Top2Vec\n",
    "import pandas as pd\n",
    "from pathlib import Path\n",
    "import json"
   ]
  },
  {
   "cell_type": "code",
   "execution_count": 2,
   "metadata": {},
   "outputs": [],
   "source": [
    "\n",
    "DATASET = \"sample50k_health_tech\"\n",
    "\n",
    "MODEL_PATH = Path(\"../results/models\")/DATASET\n",
    "TOPIC_PATH = Path(\"../results/topics\")"
   ]
  },
  {
   "cell_type": "markdown",
   "metadata": {},
   "source": [
    "Load Model"
   ]
  },
  {
   "cell_type": "code",
   "execution_count": 3,
   "metadata": {},
   "outputs": [],
   "source": [
    "embedding_module = 'universal-sentence-encoder'\n",
    "speed = 'learn'\n",
    "model = Top2Vec.load(f\"{MODEL_PATH}/top2vec_{embedding_module}_{speed}\")"
   ]
  },
  {
   "cell_type": "markdown",
   "metadata": {},
   "source": [
    "Load dictionary with topic grouping. Keys are the topic numbers for the lowest level topics."
   ]
  },
  {
   "cell_type": "code",
   "execution_count": 4,
   "metadata": {},
   "outputs": [],
   "source": [
    "with open(f\"{TOPIC_PATH}/{DATASET}_top2vec.json\") as f:\n",
    "    topics = f.read()\n",
    "    topics = json.loads(topics)"
   ]
  },
  {
   "cell_type": "markdown",
   "metadata": {},
   "source": [
    "Data preprocessing:\n",
    "\n",
    "Note: the only preprocessing before training was .lower.split()! Was testing to see if removing stopwords before inference could help."
   ]
  },
  {
   "cell_type": "code",
   "execution_count": 5,
   "metadata": {},
   "outputs": [],
   "source": [
    "from src.data_cleaning import decontracted, clean, create_lemmas\n",
    "import spacy\n",
    "from spacy.lang.en.stop_words import STOP_WORDS as en_stop\n",
    "\n",
    "nlp = spacy.load(\"en_core_web_sm\", disable=['parser', 'ner'])\n"
   ]
  },
  {
   "cell_type": "code",
   "execution_count": 19,
   "metadata": {},
   "outputs": [],
   "source": [
    "# txt = df.loc[0].article\n",
    "\n",
    "txt = \"\"\"\n",
    "A new study from Pennington Biomedical Research Center, published in the journal Nature Communications, found that reducing the amount of protein in the diet produced an array of favorable health outcomes, including an extension of lifespan, and that these effects depend on a liver-derived metabolic hormone called Fibroblast Growth Factor 21 (FGF21).\n",
    "\n",
    "It has long been known that reducing the amount you eat improves health and extends lifespan, and there has been increasing interest in the possibility that reducing protein or amino acid intake contributes to this beneficial effect. Several recent studies suggest that diets that are low in protein, but not so low that they produce malnutrition, can improve health. Conversely, overconsumption of high-protein diets has been linked to increased mortality in certain age groups.\n",
    "\"\"\"\n",
    "\n",
    "txt = clean(decontracted(txt))\n",
    "txt = create_lemmas(txt)\n",
    "txt_proc = [w for w in txt if w in model.vocab]"
   ]
  },
  {
   "cell_type": "code",
   "execution_count": 20,
   "metadata": {},
   "outputs": [
    {
     "name": "stdout",
     "output_type": "stream",
     "text": [
      "['new', 'study', 'biomedical', 'research', 'center', 'publish', 'journal', 'nature', 'communication', 'find', 'reduce', 'protein', 'diet', 'produce', 'array', 'favorable', 'health', 'outcome', 'include', 'extension', 'lifespan', 'effect', 'depend', 'metabolic', 'hormone', 'growth', 'factor', 'long', 'know', 'reduce', 'eat', 'improve', 'health', 'extend', 'lifespan', 'increase', 'interest', 'possibility', 'reduce', 'protein', 'amino', 'acid', 'intake', 'contribute', 'beneficial', 'effect', 'recent', 'study', 'suggest', 'diet', 'low', 'protein', 'low', 'produce', 'malnutrition', 'improve', 'health', 'diet', 'link', 'increase', 'mortality', 'certain', 'age', 'group']\n"
     ]
    }
   ],
   "source": [
    "print(txt_proc)"
   ]
  },
  {
   "cell_type": "code",
   "execution_count": 21,
   "metadata": {},
   "outputs": [],
   "source": [
    "topic_words, word_scores, topic_scores, topic_nums = model.search_topics(keywords=txt_proc, num_topics=5)"
   ]
  },
  {
   "cell_type": "code",
   "execution_count": 22,
   "metadata": {},
   "outputs": [
    {
     "name": "stdout",
     "output_type": "stream",
     "text": [
      "health\n",
      "celebrity\n",
      "un_feeds_parenthood_tout_episodes\n",
      "-----\n",
      "health\n",
      "plastic surgery\n",
      "bariatric_ripa_toned_liposuction_tess\n",
      "-----\n",
      "health\n",
      "nutrition\n",
      "nutritionist_nutritional_nutritionists_dietitian_statin\n",
      "-----\n",
      "health\n",
      "nutrition\n",
      "keto_ketosis_diets_carbs_nutritionist\n",
      "-----\n",
      "health\n",
      "plastic surgery\n",
      "surgeries_implants_surgery_mastectomy_botox\n",
      "-----\n"
     ]
    }
   ],
   "source": [
    "best_topics = list(filter(lambda x: x[1] > 0.02, zip(topic_nums, topic_scores)))\n",
    "\n",
    "for t, _ in best_topics:\n",
    "    print(topics[str(t)][\"main_topic\"])\n",
    "    print(topics[str(t)][\"topic_level1_descr\"])\n",
    "    print(\"_\".join(topics[str(t)][\"topic_words_level2\"][:5]))\n",
    "    print(\"-----\")\n"
   ]
  },
  {
   "cell_type": "code",
   "execution_count": null,
   "metadata": {},
   "outputs": [],
   "source": []
  }
 ],
 "metadata": {
  "interpreter": {
   "hash": "feb9fbdaf8823060a978ec464cb9b002124d7b95a0c8d909409fa113c0eca975"
  },
  "kernelspec": {
   "display_name": "Python 3.8.13 ('fourthbrain-glg')",
   "language": "python",
   "name": "python3"
  },
  "language_info": {
   "codemirror_mode": {
    "name": "ipython",
    "version": 3
   },
   "file_extension": ".py",
   "mimetype": "text/x-python",
   "name": "python",
   "nbconvert_exporter": "python",
   "pygments_lexer": "ipython3",
   "version": "3.8.13"
  },
  "orig_nbformat": 4
 },
 "nbformat": 4,
 "nbformat_minor": 2
}
