{
 "cells": [
  {
   "cell_type": "code",
   "execution_count": 1,
   "metadata": {},
   "outputs": [],
   "source": [
    "%load_ext autoreload\n",
    "%autoreload 2"
   ]
  },
  {
   "cell_type": "code",
   "execution_count": 2,
   "metadata": {},
   "outputs": [],
   "source": [
    "import pandas as pd\n",
    "from pathlib import Path\n",
    "from dask.distributed import Client\n",
    "import dask.dataframe as dd\n",
    "from src.data_cleaning import clean_df, lemmatize"
   ]
  },
  {
   "cell_type": "code",
   "execution_count": 3,
   "metadata": {},
   "outputs": [],
   "source": [
    "RAW_FILE = \"sample50k_health_tech.csv\"\n",
    "PROECESSED_PATH = Path(\"../data/data_processed\")\n",
    "PROCESSED_OUT = PROECESSED_PATH/RAW_FILE.replace('.csv', '')\n",
    "DF_DASK_PARTITIONS = 24\n",
    "\n",
    "PROCESSED_OUT.mkdir(exist_ok=True)"
   ]
  },
  {
   "cell_type": "code",
   "execution_count": 4,
   "metadata": {},
   "outputs": [],
   "source": [
    "client = Client()\n",
    "client.cluster"
   ]
  },
  {
   "cell_type": "code",
   "execution_count": 5,
   "metadata": {},
   "outputs": [],
   "source": [
    "df_meta = pd.read_csv(\n",
    "  Path(\"../data/subsamples\")/RAW_FILE,\n",
    "  usecols = (0,4),\n",
    "  nrows=5\n",
    "  )\n",
    "df_meta.columns = [\"article_id\", \"article\"]\n",
    "df_meta = df_meta.dropna(subset=['article'])"
   ]
  },
  {
   "cell_type": "code",
   "execution_count": 6,
   "metadata": {},
   "outputs": [],
   "source": [
    "df_dask = pd.read_csv(\n",
    "  Path(\"../data/subsamples\")/RAW_FILE,\n",
    "  usecols = (0,4)\n",
    "  )\n",
    "df_dask = dd.from_pandas(df_dask, npartitions=DF_DASK_PARTITIONS)\n",
    "df_dask.columns = [\"article_id\", \"article\"]\n",
    "df_dask = df_dask.dropna(subset=[\"article\"])\n",
    "df_dask = df_dask.map_partitions(clean_df, meta=df_meta)\n",
    "df_dask = df_dask.map_partitions(lemmatize, meta=df_meta)\n",
    "df_dask.to_json(PROCESSED_OUT/\"processed_corpus_chunk_*.json\", orient='records', lines=True)"
   ]
  },
  {
   "cell_type": "code",
   "execution_count": 7,
   "metadata": {},
   "outputs": [],
   "source": [
    "client.close()"
   ]
  },
  {
   "cell_type": "code",
   "execution_count": null,
   "metadata": {},
   "outputs": [],
   "source": []
  }
 ],
 "metadata": {
  "interpreter": {
   "hash": "feb9fbdaf8823060a978ec464cb9b002124d7b95a0c8d909409fa113c0eca975"
  },
  "kernelspec": {
   "display_name": "Python 3.8.13 ('fourthbrain-glg')",
   "language": "python",
   "name": "python3"
  },
  "language_info": {
   "codemirror_mode": {
    "name": "ipython",
    "version": 3
   },
   "file_extension": ".py",
   "mimetype": "text/x-python",
   "name": "python",
   "nbconvert_exporter": "python",
   "pygments_lexer": "ipython3",
   "version": "3.8.13"
  },
  "orig_nbformat": 4
 },
 "nbformat": 4,
 "nbformat_minor": 2
}
